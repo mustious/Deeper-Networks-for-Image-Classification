{
 "cells": [
  {
   "cell_type": "code",
   "execution_count": 1,
   "metadata": {},
   "outputs": [],
   "source": [
    "# required google colab installations\n",
    "# !pip install torchinfo torchmetrics wandb"
   ]
  },
  {
   "cell_type": "code",
   "execution_count": 2,
   "metadata": {},
   "outputs": [],
   "source": [
    "# import libraries\n",
    "import random\n",
    "import math\n",
    "from pathlib import Path\n",
    "import sys\n",
    "\n",
    "from tqdm.auto import tqdm\n",
    "\n",
    "\n",
    "import numpy as np\n",
    "import matplotlib.pyplot as plt\n",
    "\n",
    "import torchinfo # show model summary\n",
    "\n",
    "# helper functions \n",
    "from helpers import display_images\n",
    "\n",
    "# pytorch modules\n",
    "import torch\n",
    "from torch.utils.data import DataLoader\n",
    "\n",
    "# torch vision modules\n",
    "import torchvision\n",
    "from torchvision import datasets\n",
    "from torchvision import transforms\n",
    "from torch import nn\n",
    "\n",
    "# metrics module\n",
    "import torchmetrics\n",
    "\n",
    "# tracking metrics\n",
    "import wandb\n",
    "# import tensorboard"
   ]
  },
  {
   "cell_type": "markdown",
   "metadata": {},
   "source": [
    "##### Hyper-parameter Initialisations"
   ]
  },
  {
   "cell_type": "code",
   "execution_count": 20,
   "metadata": {},
   "outputs": [],
   "source": [
    "config = dict(\n",
    "    epochs=1,\n",
    "    learning_rate=1e-3,\n",
    "    batch_size= 32,\n",
    "    optimiser=\"SGD\",\n",
    "    dataset=\"MNIST\",\n",
    "    architecture=\"VGG-11\",\n",
    ")"
   ]
  },
  {
   "cell_type": "code",
   "execution_count": 4,
   "metadata": {},
   "outputs": [
    {
     "name": "stderr",
     "output_type": "stream",
     "text": [
      "Failed to detect the name of this notebook, you can set it manually with the WANDB_NOTEBOOK_NAME environment variable to enable code saving.\n",
      "\u001b[34m\u001b[1mwandb\u001b[0m: Currently logged in as: \u001b[33mmustious\u001b[0m. Use \u001b[1m`wandb login --relogin`\u001b[0m to force relogin\n"
     ]
    },
    {
     "data": {
      "text/html": [
       "Tracking run with wandb version 0.15.0"
      ],
      "text/plain": [
       "<IPython.core.display.HTML object>"
      ]
     },
     "metadata": {},
     "output_type": "display_data"
    },
    {
     "data": {
      "text/html": [
       "Run data is saved locally in <code>/media/mustious/OS/Users/musta/Personal/school/MSc AI (QMUL)/Semester B/Deep Learning and Computer Vision (ECS795P)/Deeper-Networks-for-Image-Classification/wandb/run-20230430_181710-zi63z6mo</code>"
      ],
      "text/plain": [
       "<IPython.core.display.HTML object>"
      ]
     },
     "metadata": {},
     "output_type": "display_data"
    },
    {
     "data": {
      "text/html": [
       "Syncing run <strong><a href='https://wandb.ai/mustious/ECS795P_Classic/runs/zi63z6mo' target=\"_blank\">rural-deluge-7</a></strong> to <a href='https://wandb.ai/mustious/ECS795P_Classic' target=\"_blank\">Weights & Biases</a> (<a href='https://wandb.me/run' target=\"_blank\">docs</a>)<br/>"
      ],
      "text/plain": [
       "<IPython.core.display.HTML object>"
      ]
     },
     "metadata": {},
     "output_type": "display_data"
    },
    {
     "data": {
      "text/html": [
       " View project at <a href='https://wandb.ai/mustious/ECS795P_Classic' target=\"_blank\">https://wandb.ai/mustious/ECS795P_Classic</a>"
      ],
      "text/plain": [
       "<IPython.core.display.HTML object>"
      ]
     },
     "metadata": {},
     "output_type": "display_data"
    },
    {
     "data": {
      "text/html": [
       " View run at <a href='https://wandb.ai/mustious/ECS795P_Classic/runs/zi63z6mo' target=\"_blank\">https://wandb.ai/mustious/ECS795P_Classic/runs/zi63z6mo</a>"
      ],
      "text/plain": [
       "<IPython.core.display.HTML object>"
      ]
     },
     "metadata": {},
     "output_type": "display_data"
    },
    {
     "data": {
      "text/html": [
       "<button onClick=\"this.nextSibling.style.display='block';this.style.display='none';\">Display W&B run</button><iframe src='https://wandb.ai/mustious/ECS795P_Classic/runs/zi63z6mo?jupyter=true' style='border:none;width:100%;height:420px;display:none;'></iframe>"
      ],
      "text/plain": [
       "<wandb.sdk.wandb_run.Run at 0x7f2e0e3e1890>"
      ]
     },
     "execution_count": 4,
     "metadata": {},
     "output_type": "execute_result"
    }
   ],
   "source": [
    "# initialise wandb project\n",
    "wandb.init(project=\"ECS795P_Classic\", config=config)"
   ]
  },
  {
   "cell_type": "code",
   "execution_count": 26,
   "metadata": {},
   "outputs": [
    {
     "name": "stdout",
     "output_type": "stream",
     "text": [
      "Hyper-parameter configurations: \n",
      "{'epochs': 10, 'learning_rate': 0.001, 'batch_size': 32, 'optimiser': 'SGD', 'dataset': 'MNIST', 'architecture': 'VGG-11'}\n"
     ]
    }
   ],
   "source": [
    "config = wandb.config\n",
    "print(f\"Hyper-parameter configurations: \\n{config}\")"
   ]
  },
  {
   "cell_type": "code",
   "execution_count": 27,
   "metadata": {},
   "outputs": [
    {
     "name": "stdout",
     "output_type": "stream",
     "text": [
      "10\n"
     ]
    }
   ],
   "source": [
    "print(config.epochs)"
   ]
  },
  {
   "cell_type": "code",
   "execution_count": 6,
   "metadata": {},
   "outputs": [],
   "source": [
    "def display_images(image_dataloader: DataLoader, class_labels, n_rows: int =3, n_cols:int =5, figsize: tuple =(12,6)):\n",
    "\n",
    "    \"\"\"\n",
    "    displays images from dataloader\n",
    "    \"\"\"\n",
    "    # display MNIST sample images\n",
    "    #n_rows, n_cols = 3, 5\n",
    "    n_samples = n_rows * n_cols # number sample images to display\n",
    "\n",
    "    data, label = next(iter(image_dataloader))\n",
    "    fig, axs = plt.subplots(nrows=n_rows, ncols=n_cols, figsize=figsize)\n",
    "\n",
    "    for i, image in enumerate(data[:n_samples]):\n",
    "        image = image.detach()[0]\n",
    "        #image = image.squeeze(dim=0)\n",
    "        axs[i%n_rows, i//n_rows].imshow(image.numpy(), cmap=\"gray\")\n",
    "        axs[i%n_rows, i//n_rows].set(xticks=[], yticks=[])\n",
    "        axs[i%n_rows, i//n_rows].set_title(class_labels[label[i]])"
   ]
  },
  {
   "cell_type": "code",
   "execution_count": 7,
   "metadata": {},
   "outputs": [
    {
     "name": "stdout",
     "output_type": "stream",
     "text": [
      "Current hardware device: cuda\n"
     ]
    }
   ],
   "source": [
    "# device agnostic code\n",
    "DEVICE = \"cuda\" if torch.cuda.is_available() else \"cpu\"\n",
    "print(f\"Current hardware device: {DEVICE}\")"
   ]
  },
  {
   "attachments": {},
   "cell_type": "markdown",
   "metadata": {},
   "source": [
    "#### Downloading and Loading Datasets"
   ]
  },
  {
   "cell_type": "code",
   "execution_count": 8,
   "metadata": {},
   "outputs": [],
   "source": [
    "# image Transforms\n",
    "image_tranforms = transforms.Compose([\n",
    "    transforms.Resize((224, 224)),\n",
    "    transforms.Grayscale(num_output_channels=3),\n",
    "    transforms.ToTensor()\n",
    "    ])\n"
   ]
  },
  {
   "cell_type": "code",
   "execution_count": 9,
   "metadata": {},
   "outputs": [],
   "source": [
    "# load MNIST datasets\n",
    "# MNIST train data\n",
    "train_data = datasets.MNIST(\n",
    "    root=\"mnist_data\",\n",
    "    train=True,\n",
    "    transform=image_tranforms,\n",
    "    download=True,\n",
    ")\n",
    "\n",
    "# MNIST test data\n",
    "test_data = datasets.MNIST(\n",
    "    root=\"mnist_data\",\n",
    "    train=False,\n",
    "    transform=image_tranforms,\n",
    "    download=True,\n",
    ")"
   ]
  },
  {
   "cell_type": "code",
   "execution_count": 10,
   "metadata": {},
   "outputs": [
    {
     "name": "stdout",
     "output_type": "stream",
     "text": [
      "Train data size: 60000\n",
      "Test data size: 10000\n",
      "Image size: [  3 224 224]\n"
     ]
    }
   ],
   "source": [
    "print(f\"Train data size: {len(train_data)}\")\n",
    "print(f\"Test data size: {len(test_data)}\")\n",
    "print(f\"Image size: {np.array(train_data[0][0].shape)}\")"
   ]
  },
  {
   "cell_type": "code",
   "execution_count": 11,
   "metadata": {},
   "outputs": [],
   "source": [
    "# train dataloader iterable\n",
    "train_dataloader = DataLoader(\n",
    "    dataset=train_data,\n",
    "    batch_size=config.batch_size,\n",
    "    shuffle=True\n",
    ")\n",
    "\n",
    "# test dataloader iterable\n",
    "test_dataloader= DataLoader(\n",
    "    dataset=test_data,\n",
    "    batch_size=config.batch_size,\n",
    ")"
   ]
  },
  {
   "cell_type": "code",
   "execution_count": 12,
   "metadata": {},
   "outputs": [
    {
     "name": "stdout",
     "output_type": "stream",
     "text": [
      "class labels: ['0 - zero', '1 - one', '2 - two', '3 - three', '4 - four', '5 - five', '6 - six', '7 - seven', '8 - eight', '9 - nine']\n"
     ]
    }
   ],
   "source": [
    "class_labels = train_data.classes # images class labels\n",
    "print(f\"class labels: {class_labels}\")"
   ]
  },
  {
   "cell_type": "code",
   "execution_count": 13,
   "metadata": {},
   "outputs": [
    {
     "data": {
      "image/png": "[encoded data removed]",
      "text/plain": [
       "<Figure size 864x432 with 15 Axes>"
      ]
     },
     "metadata": {},
     "output_type": "display_data"
    }
   ],
   "source": [
    "display_images(train_dataloader, class_labels=class_labels, n_cols=5, n_rows=3)"
   ]
  },
  {
   "attachments": {},
   "cell_type": "markdown",
   "metadata": {},
   "source": [
    "#### VGG Baseline Models"
   ]
  },
  {
   "cell_type": "code",
   "execution_count": 14,
   "metadata": {},
   "outputs": [],
   "source": [
    "vgg_model = torchvision.models.vgg11()"
   ]
  },
  {
   "cell_type": "code",
   "execution_count": 15,
   "metadata": {},
   "outputs": [],
   "source": [
    "# set the output of the FC layers to number of classes of MNIST\n",
    "\n",
    "vgg_mnist_fc = nn.Sequential(\n",
    "    nn.Linear(in_features=25088, out_features=4096, bias=True),\n",
    "    nn.ReLU(inplace=True),\n",
    "    nn.Dropout(p=0.5, inplace=False),\n",
    "    nn.Linear(in_features=4096, out_features=len(class_labels), bias=True),\n",
    ")\n",
    "vgg_model.classifier = vgg_mnist_fc"
   ]
  },
  {
   "cell_type": "code",
   "execution_count": 16,
   "metadata": {},
   "outputs": [
    {
     "data": {
      "text/plain": [
       "========================================================================================================================================================================================================================================================================================\n",
       "Layer (type (var_name))                  Input Shape                                                  Output Shape                                                 Param #                                                      Trainable\n",
       "========================================================================================================================================================================================================================================================================================\n",
       "VGG (VGG)                                [32, 3, 224, 224]                                            [32, 10]                                                     --                                                           True\n",
       "├─Sequential (features)                  [32, 3, 224, 224]                                            [32, 512, 7, 7]                                              --                                                           True\n",
       "│    └─Conv2d (0)                        [32, 3, 224, 224]                                            [32, 64, 224, 224]                                           1,792                                                        True\n",
       "│    └─ReLU (1)                          [32, 64, 224, 224]                                           [32, 64, 224, 224]                                           --                                                           --\n",
       "│    └─MaxPool2d (2)                     [32, 64, 224, 224]                                           [32, 64, 112, 112]                                           --                                                           --\n",
       "│    └─Conv2d (3)                        [32, 64, 112, 112]                                           [32, 128, 112, 112]                                          73,856                                                       True\n",
       "│    └─ReLU (4)                          [32, 128, 112, 112]                                          [32, 128, 112, 112]                                          --                                                           --\n",
       "│    └─MaxPool2d (5)                     [32, 128, 112, 112]                                          [32, 128, 56, 56]                                            --                                                           --\n",
       "│    └─Conv2d (6)                        [32, 128, 56, 56]                                            [32, 256, 56, 56]                                            295,168                                                      True\n",
       "│    └─ReLU (7)                          [32, 256, 56, 56]                                            [32, 256, 56, 56]                                            --                                                           --\n",
       "│    └─Conv2d (8)                        [32, 256, 56, 56]                                            [32, 256, 56, 56]                                            590,080                                                      True\n",
       "│    └─ReLU (9)                          [32, 256, 56, 56]                                            [32, 256, 56, 56]                                            --                                                           --\n",
       "│    └─MaxPool2d (10)                    [32, 256, 56, 56]                                            [32, 256, 28, 28]                                            --                                                           --\n",
       "│    └─Conv2d (11)                       [32, 256, 28, 28]                                            [32, 512, 28, 28]                                            1,180,160                                                    True\n",
       "│    └─ReLU (12)                         [32, 512, 28, 28]                                            [32, 512, 28, 28]                                            --                                                           --\n",
       "│    └─Conv2d (13)                       [32, 512, 28, 28]                                            [32, 512, 28, 28]                                            2,359,808                                                    True\n",
       "│    └─ReLU (14)                         [32, 512, 28, 28]                                            [32, 512, 28, 28]                                            --                                                           --\n",
       "│    └─MaxPool2d (15)                    [32, 512, 28, 28]                                            [32, 512, 14, 14]                                            --                                                           --\n",
       "│    └─Conv2d (16)                       [32, 512, 14, 14]                                            [32, 512, 14, 14]                                            2,359,808                                                    True\n",
       "│    └─ReLU (17)                         [32, 512, 14, 14]                                            [32, 512, 14, 14]                                            --                                                           --\n",
       "│    └─Conv2d (18)                       [32, 512, 14, 14]                                            [32, 512, 14, 14]                                            2,359,808                                                    True\n",
       "│    └─ReLU (19)                         [32, 512, 14, 14]                                            [32, 512, 14, 14]                                            --                                                           --\n",
       "│    └─MaxPool2d (20)                    [32, 512, 14, 14]                                            [32, 512, 7, 7]                                              --                                                           --\n",
       "├─AdaptiveAvgPool2d (avgpool)            [32, 512, 7, 7]                                              [32, 512, 7, 7]                                              --                                                           --\n",
       "├─Sequential (classifier)                [32, 25088]                                                  [32, 10]                                                     --                                                           True\n",
       "│    └─Linear (0)                        [32, 25088]                                                  [32, 4096]                                                   102,764,544                                                  True\n",
       "│    └─ReLU (1)                          [32, 4096]                                                   [32, 4096]                                                   --                                                           --\n",
       "│    └─Dropout (2)                       [32, 4096]                                                   [32, 4096]                                                   --                                                           --\n",
       "│    └─Linear (3)                        [32, 4096]                                                   [32, 10]                                                     40,970                                                       True\n",
       "========================================================================================================================================================================================================================================================================================\n",
       "Total params: 112,025,994\n",
       "Trainable params: 112,025,994\n",
       "Non-trainable params: 0\n",
       "Total mult-adds (G): 243.06\n",
       "========================================================================================================================================================================================================================================================================================\n",
       "Input size (MB): 19.27\n",
       "Forward/backward pass size (MB): 1902.12\n",
       "Params size (MB): 448.10\n",
       "Estimated Total Size (MB): 2369.49\n",
       "========================================================================================================================================================================================================================================================================================"
      ]
     },
     "execution_count": 16,
     "metadata": {},
     "output_type": "execute_result"
    }
   ],
   "source": [
    "# display model architecture\n",
    "torchinfo.summary(vgg_model,\n",
    "                  input_size=(32, 3, 224, 224), \n",
    "                  col_names=[\"input_size\", \"output_size\", \"num_params\", \"trainable\"],\n",
    "                  col_width=60,\n",
    "                  row_settings=[\"var_names\"]\n",
    "                  )"
   ]
  },
  {
   "cell_type": "code",
   "execution_count": 18,
   "metadata": {},
   "outputs": [],
   "source": [
    "loss_fn = nn.CrossEntropyLoss()\n",
    "if config.optimiser == \"SGD\":\n",
    "    optimiser = torch.optim.SGD(vgg_model.parameters(), lr=config.learning_rate)\n",
    "elif config.optimiser == \"ADAM\":\n",
    "    optimiser = torch.optim.Adam(vgg_model.parameters(), lr=config.learning_rate)"
   ]
  },
  {
   "cell_type": "code",
   "execution_count": 29,
   "metadata": {},
   "outputs": [],
   "source": [
    "# metrics definition\n",
    "accuracy_metric = torchmetrics.Accuracy(task=\"multiclass\", num_classes=10)"
   ]
  },
  {
   "cell_type": "code",
   "execution_count": 30,
   "metadata": {},
   "outputs": [
    {
     "data": {
      "text/plain": [
       "[]"
      ]
     },
     "execution_count": 30,
     "metadata": {},
     "output_type": "execute_result"
    }
   ],
   "source": [
    "# monitor parameter values i.e weights and biases and model gradients\n",
    "wandb.watch(vgg_model, criterion=loss_fn, log=\"all\")"
   ]
  },
  {
   "cell_type": "code",
   "execution_count": 34,
   "metadata": {},
   "outputs": [],
   "source": [
    "def train_model(model, dataloader: torch.utils.data.DataLoader):\n",
    "    \"\"\"\n",
    "    \n",
    "    \"\"\"\n",
    "    train_acc, train_loss = 0, 0\n",
    "    vgg_model.train()\n",
    "    for batch_data, batch_label in train_dataloader:\n",
    "        batch_data = batch_data.to(DEVICE)\n",
    "        batch_label = batch_label.to(DEVICE)\\\n",
    "\n",
    "        pred_logits = vgg_model(batch_data)\n",
    "\n",
    "        train_batch_loss = loss_fn(pred_logits, batch_label)\n",
    "        train_loss += train_batch_loss\n",
    "\n",
    "        preds = nn.functional.softmax(pred_logits, dim=0).argmax(dim=1)\n",
    "        \n",
    "        train_batch_acc = accuracy_metric(preds.cpu(), batch_label.cpu()) * 100\n",
    "        train_acc += train_batch_acc\n",
    "\n",
    "        optimiser.zero_grad()\n",
    "\n",
    "        train_batch_loss.backward()\n",
    "\n",
    "        optimiser.step()\n",
    "        \n",
    "    \n",
    "    # average of metrics per batch\n",
    "    train_acc /= len(train_dataloader)\n",
    "    train_loss /= len(train_dataloader)\n",
    "\n",
    "    return train_loss, train_acc"
   ]
  },
  {
   "cell_type": "code",
   "execution_count": 35,
   "metadata": {},
   "outputs": [],
   "source": [
    "def test_model(model, dataloader: torch.utils.data.DataLoader):\n",
    "    \"\"\"\n",
    "    \n",
    "    \"\"\"\n",
    "    test_loss, test_acc =  0, 0\n",
    "    vgg_model.eval() # set model to evaluation mode\n",
    "    with torch.inference_mode():\n",
    "        for test_batch_data, test_batch_label in dataloader:\n",
    "            \n",
    "            test_batch_data = test_batch_data.to(DEVICE)\n",
    "            test_batch_label = test_batch_label.to(DEVICE)\n",
    "\n",
    "            pred_logits = vgg_model(test_batch_data)\n",
    "\n",
    "            test_batch_loss = loss_fn(pred_logits, test_batch_label)\n",
    "            test_loss += test_batch_loss\n",
    "\n",
    "            preds = nn.functional.softmax(pred_logits, dim=0).argmax(dim=1)\n",
    "            \n",
    "            batch_acc = accuracy_metric(preds.cpu(), test_batch_label.cpu()) * 100\n",
    "            test_acc += batch_acc\n",
    "        \n",
    "    # average of loss metrics\n",
    "    test_loss /= len(test_dataloader)\n",
    "    test_acc /= len(test_dataloader)\n",
    "    return test_loss, test_acc"
   ]
  },
  {
   "cell_type": "code",
   "execution_count": 31,
   "metadata": {},
   "outputs": [
    {
     "data": {
      "application/vnd.jupyter.widget-view+json": {
       "model_id": "19870c7e75754507ac596947d306acc9",
       "version_major": 2,
       "version_minor": 0
      },
      "text/plain": [
       "  0%|          | 0/10 [00:00<?, ?it/s]"
      ]
     },
     "metadata": {},
     "output_type": "display_data"
    },
    {
     "ename": "KeyboardInterrupt",
     "evalue": "",
     "output_type": "error",
     "traceback": [
      "\u001b[0;31m---------------------------------------------------------------------------\u001b[0m",
      "\u001b[0;31mKeyboardInterrupt\u001b[0m                         Traceback (most recent call last)",
      "\u001b[0;32m<ipython-input-31-a7707dab9d82>\u001b[0m in \u001b[0;36m<module>\u001b[0;34m\u001b[0m\n\u001b[1;32m     15\u001b[0m         \u001b[0mpreds\u001b[0m \u001b[0;34m=\u001b[0m \u001b[0mnn\u001b[0m\u001b[0;34m.\u001b[0m\u001b[0mfunctional\u001b[0m\u001b[0;34m.\u001b[0m\u001b[0msoftmax\u001b[0m\u001b[0;34m(\u001b[0m\u001b[0mpred_logits\u001b[0m\u001b[0;34m,\u001b[0m \u001b[0mdim\u001b[0m\u001b[0;34m=\u001b[0m\u001b[0;36m0\u001b[0m\u001b[0;34m)\u001b[0m\u001b[0;34m.\u001b[0m\u001b[0margmax\u001b[0m\u001b[0;34m(\u001b[0m\u001b[0mdim\u001b[0m\u001b[0;34m=\u001b[0m\u001b[0;36m1\u001b[0m\u001b[0;34m)\u001b[0m\u001b[0;34m\u001b[0m\u001b[0;34m\u001b[0m\u001b[0m\n\u001b[1;32m     16\u001b[0m \u001b[0;34m\u001b[0m\u001b[0m\n\u001b[0;32m---> 17\u001b[0;31m         \u001b[0mtrain_batch_acc\u001b[0m \u001b[0;34m=\u001b[0m \u001b[0maccuracy_metric\u001b[0m\u001b[0;34m(\u001b[0m\u001b[0mpreds\u001b[0m\u001b[0;34m.\u001b[0m\u001b[0mcpu\u001b[0m\u001b[0;34m(\u001b[0m\u001b[0;34m)\u001b[0m\u001b[0;34m,\u001b[0m \u001b[0mbatch_label\u001b[0m\u001b[0;34m.\u001b[0m\u001b[0mcpu\u001b[0m\u001b[0;34m(\u001b[0m\u001b[0;34m)\u001b[0m\u001b[0;34m)\u001b[0m \u001b[0;34m*\u001b[0m \u001b[0;36m100\u001b[0m\u001b[0;34m\u001b[0m\u001b[0;34m\u001b[0m\u001b[0m\n\u001b[0m\u001b[1;32m     18\u001b[0m         \u001b[0mtrain_acc\u001b[0m \u001b[0;34m+=\u001b[0m \u001b[0mtrain_batch_acc\u001b[0m\u001b[0;34m\u001b[0m\u001b[0;34m\u001b[0m\u001b[0m\n\u001b[1;32m     19\u001b[0m \u001b[0;34m\u001b[0m\u001b[0m\n",
      "\u001b[0;31mKeyboardInterrupt\u001b[0m: "
     ]
    }
   ],
   "source": [
    "\n",
    "for epoch in tqdm(range(config.epochs)):\n",
    "\n",
    "    # MODEL TRAINING\n",
    "    \n",
    "\n",
    "\n",
    "    # MODEL EVALUATION\n",
    "    \n",
    "            \n",
    "        \n",
    "\n",
    "    \n",
    "    print(f\"Epoch: {epoch}\")\n",
    "    print(f\"Training loss: {train_loss: .3f}\\t Training accuracy: {train_acc: .3f}\", end=\"\\t\")\n",
    "    print(f\"Test loss: {test_loss: .3f}\\t Test acc: {test_acc: .3f}\")\n",
    "\n",
    "    # log epoch metrics\n",
    "    epoch_log_dict = {\n",
    "        \"training_accuracy\": train_acc,\n",
    "        \"training_loss\": train_loss,\n",
    "        \"test_loss\": test_loss,\n",
    "        \"test_accuracy\": test_acc\n",
    "    }\n",
    "    wandb.log(epoch_log_dict)\n",
    "\n"
   ]
  },
  {
   "attachments": {},
   "cell_type": "markdown",
   "metadata": {},
   "source": [
    "##### Model Trains"
   ]
  },
  {
   "cell_type": "code",
   "execution_count": 24,
   "metadata": {},
   "outputs": [
    {
     "data": {
      "text/plain": [
       "10"
      ]
     },
     "execution_count": 24,
     "metadata": {},
     "output_type": "execute_result"
    }
   ],
   "source": [
    "wandb.config.epochs"
   ]
  },
  {
   "cell_type": "markdown",
   "metadata": {},
   "source": []
  },
  {
   "attachments": {},
   "cell_type": "markdown",
   "metadata": {},
   "source": [
    "#### Visualisations\n",
    "* Confusion Matrix Visualisation\n",
    "* Images of Predicted Classes"
   ]
  },
  {
   "cell_type": "code",
   "execution_count": null,
   "metadata": {},
   "outputs": [],
   "source": [
    "torchmetrics.ConfusionMatrix"
   ]
  }
 ],
 "metadata": {
  "kernelspec": {
   "display_name": "ECS795P",
   "language": "python",
   "name": "python3"
  },
  "language_info": {
   "codemirror_mode": {
    "name": "ipython",
    "version": 3
   },
   "file_extension": ".py",
   "mimetype": "text/x-python",
   "name": "python",
   "nbconvert_exporter": "python",
   "pygments_lexer": "ipython3",
   "version": "3.7.16"
  },
  "orig_nbformat": 4
 },
 "nbformat": 4,
 "nbformat_minor": 2
}
