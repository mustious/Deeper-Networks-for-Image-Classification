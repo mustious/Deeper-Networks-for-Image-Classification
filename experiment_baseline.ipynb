{
 "cells": [
  {
   "cell_type": "code",
   "execution_count": 40,
   "metadata": {},
   "outputs": [],
   "source": [
    "# import libraries\n",
    "\n",
    "import random\n",
    "import math\n",
    "from pathlib import Path\n",
    "from tqdm.auto import tqdm\n",
    "\n",
    "import numpy as np\n",
    "import matplotlib.pyplot as plt\n",
    "\n",
    "\n",
    "import torchinfo # show model summary\n",
    "\n",
    "# pytorch imports\n",
    "import torch\n",
    "from torch.utils.data import DataLoader\n",
    "\n",
    "# torch vision modules\n",
    "import torchvision\n",
    "from torchvision import datasets\n",
    "from torchvision.transforms import ToTensor \n",
    "from torch import nn\n",
    "\n",
    "# baseline models\n",
    "\n",
    "\n",
    "# metrics module\n",
    "import torchmetrics\n",
    "\n",
    "# tracking metrics\n",
    "import wandb\n",
    "# import tensorboard"
   ]
  },
  {
   "cell_type": "code",
   "execution_count": 4,
   "metadata": {},
   "outputs": [
    {
     "name": "stdout",
     "output_type": "stream",
     "text": [
      "Current hardware device: cuda\n"
     ]
    }
   ],
   "source": [
    "# device agnostic code\n",
    "DEVICE = \"cuda\" if torch.cuda.is_available() else \"cpu\"\n",
    "print(f\"Current hardware device: {DEVICE}\")"
   ]
  },
  {
   "attachments": {},
   "cell_type": "markdown",
   "metadata": {},
   "source": [
    "#### Downloading and Loading Datasets"
   ]
  },
  {
   "cell_type": "code",
   "execution_count": 5,
   "metadata": {},
   "outputs": [],
   "source": [
    "# image Transforms\n",
    "# train_tranforms = [transforms.ToTensor()]"
   ]
  },
  {
   "cell_type": "code",
   "execution_count": 7,
   "metadata": {},
   "outputs": [],
   "source": [
    "# MNIST train data\n",
    "train_data = datasets.MNIST(\n",
    "    root=\"mnist_data\",\n",
    "    train=True,\n",
    "    transform=ToTensor(),\n",
    "    download=True,\n",
    ")\n",
    "\n",
    "# MNIST test data\n",
    "test_data = datasets.MNIST(\n",
    "    root=\"mnist_data\",\n",
    "    train=False,\n",
    "    transform=ToTensor(),\n",
    "    download=True,\n",
    ")"
   ]
  },
  {
   "cell_type": "code",
   "execution_count": 56,
   "metadata": {},
   "outputs": [
    {
     "name": "stdout",
     "output_type": "stream",
     "text": [
      "Train data size: 60000\n",
      "Test data size: 10000\n",
      "Image size: [ 1 28 28]\n"
     ]
    }
   ],
   "source": [
    "print(f\"Train data size: {len(train_data)}\")\n",
    "print(f\"Test data size: {len(test_data)}\")\n",
    "print(f\"Image size: {np.array(train_data[0][0].shape)}\")"
   ]
  },
  {
   "cell_type": "code",
   "execution_count": 8,
   "metadata": {},
   "outputs": [],
   "source": [
    "BATCH_SIZE = 32 # number of samples per mini-batches"
   ]
  },
  {
   "cell_type": "code",
   "execution_count": 9,
   "metadata": {},
   "outputs": [],
   "source": [
    "# train dataloader iterable\n",
    "train_dataloader = DataLoader(\n",
    "    dataset=train_data,\n",
    "    batch_size=BATCH_SIZE,\n",
    "    shuffle=True\n",
    ")\n",
    "\n",
    "# test dataloader iterable\n",
    "test_dataloader= DataLoader(\n",
    "    dataset=test_data,\n",
    "    batch_size=BATCH_SIZE,\n",
    ")"
   ]
  },
  {
   "cell_type": "code",
   "execution_count": 10,
   "metadata": {},
   "outputs": [
    {
     "name": "stdout",
     "output_type": "stream",
     "text": [
      "class labels: ['0 - zero', '1 - one', '2 - two', '3 - three', '4 - four', '5 - five', '6 - six', '7 - seven', '8 - eight', '9 - nine']\n"
     ]
    }
   ],
   "source": [
    "class_labels = train_data.classes # images class labels\n",
    "print(f\"class labels: {class_labels}\")"
   ]
  },
  {
   "cell_type": "code",
   "execution_count": 36,
   "metadata": {},
   "outputs": [
    {
     "data": {
      "image/png": "[encoded data removed]",
      "text/plain": [
       "<Figure size 864x360 with 10 Axes>"
      ]
     },
     "metadata": {},
     "output_type": "display_data"
    }
   ],
   "source": [
    "# display MNIST sample images\n",
    "\n",
    "data, label = next(iter(train_dataloader))\n",
    "fig, axs = plt.subplots(nrows=2, ncols=5, figsize=(12,5))\n",
    "\n",
    "for i, image in enumerate(data[:10]):\n",
    "    image = image.detach()\n",
    "    image = image.squeeze(dim=0)\n",
    "    axs[i%2, i//2].imshow(image.numpy(), cmap=\"gray\")\n",
    "    axs[i%2, i//2].set(xticks=[], yticks=[])\n",
    "    axs[i%2, i//2].set_title(class_labels[i])\n"
   ]
  },
  {
   "attachments": {},
   "cell_type": "markdown",
   "metadata": {},
   "source": [
    "#### Baseline Models"
   ]
  },
  {
   "cell_type": "code",
   "execution_count": 102,
   "metadata": {},
   "outputs": [],
   "source": [
    "googlenet_weight = torchvision.models.GoogLeNet_Weights.IMAGENET1K_V1\n",
    "googlenet_model = torchvision.models.GoogLeNet(init_weights=googlenet_weight)"
   ]
  },
  {
   "cell_type": "code",
   "execution_count": 117,
   "metadata": {},
   "outputs": [],
   "source": [
    "# set the outputnof the fullyconnected layers to number of classes of MNIST\n",
    "googlenet_mnist_fc = nn.Sequential(\n",
    "    nn.Linear(in_features=1024, out_features=len(class_labels), bias=True)\n",
    ")\n",
    "googlenet_model.fc = googlenet_mnist_fc"
   ]
  },
  {
   "cell_type": "code",
   "execution_count": 118,
   "metadata": {},
   "outputs": [],
   "source": [
    "# freezing the features layers\n",
    "for param in googlenet_model.parameters():\n",
    "    param.requires_grad = False\n",
    "\n",
    "# set FC layer to trainable\n",
    "for params in googlenet_model.fc.parameters():\n",
    "    param.requires_grad = True"
   ]
  },
  {
   "cell_type": "code",
   "execution_count": 119,
   "metadata": {},
   "outputs": [
    {
     "data": {
      "text/plain": [
       "========================================================================================================================================================================================================================================================================================\n",
       "Layer (type (var_name))                  Input Shape                                                  Output Shape                                                 Param #                                                      Trainable\n",
       "========================================================================================================================================================================================================================================================================================\n",
       "GoogLeNet (GoogLeNet)                    [32, 3, 28, 28]                                              [32, 10]                                                     6,379,984                                                    Partial\n",
       "├─BasicConv2d (conv1)                    [32, 3, 28, 28]                                              [32, 64, 14, 14]                                             --                                                           False\n",
       "│    └─Conv2d (conv)                     [32, 3, 28, 28]                                              [32, 64, 14, 14]                                             (9,408)                                                      False\n",
       "│    └─BatchNorm2d (bn)                  [32, 64, 14, 14]                                             [32, 64, 14, 14]                                             (128)                                                        False\n",
       "├─MaxPool2d (maxpool1)                   [32, 64, 14, 14]                                             [32, 64, 7, 7]                                               --                                                           --\n",
       "├─BasicConv2d (conv2)                    [32, 64, 7, 7]                                               [32, 64, 7, 7]                                               --                                                           False\n",
       "│    └─Conv2d (conv)                     [32, 64, 7, 7]                                               [32, 64, 7, 7]                                               (4,096)                                                      False\n",
       "│    └─BatchNorm2d (bn)                  [32, 64, 7, 7]                                               [32, 64, 7, 7]                                               (128)                                                        False\n",
       "├─BasicConv2d (conv3)                    [32, 64, 7, 7]                                               [32, 192, 7, 7]                                              --                                                           False\n",
       "│    └─Conv2d (conv)                     [32, 64, 7, 7]                                               [32, 192, 7, 7]                                              (110,592)                                                    False\n",
       "│    └─BatchNorm2d (bn)                  [32, 192, 7, 7]                                              [32, 192, 7, 7]                                              (384)                                                        False\n",
       "├─MaxPool2d (maxpool2)                   [32, 192, 7, 7]                                              [32, 192, 3, 3]                                              --                                                           --\n",
       "├─Inception (inception3a)                [32, 192, 3, 3]                                              [32, 256, 3, 3]                                              --                                                           False\n",
       "│    └─BasicConv2d (branch1)             [32, 192, 3, 3]                                              [32, 64, 3, 3]                                               --                                                           False\n",
       "│    │    └─Conv2d (conv)                [32, 192, 3, 3]                                              [32, 64, 3, 3]                                               (12,288)                                                     False\n",
       "│    │    └─BatchNorm2d (bn)             [32, 64, 3, 3]                                               [32, 64, 3, 3]                                               (128)                                                        False\n",
       "│    └─Sequential (branch2)              [32, 192, 3, 3]                                              [32, 128, 3, 3]                                              --                                                           False\n",
       "│    │    └─BasicConv2d (0)              [32, 192, 3, 3]                                              [32, 96, 3, 3]                                               (18,624)                                                     False\n",
       "│    │    └─BasicConv2d (1)              [32, 96, 3, 3]                                               [32, 128, 3, 3]                                              (110,848)                                                    False\n",
       "│    └─Sequential (branch3)              [32, 192, 3, 3]                                              [32, 32, 3, 3]                                               --                                                           False\n",
       "│    │    └─BasicConv2d (0)              [32, 192, 3, 3]                                              [32, 16, 3, 3]                                               (3,104)                                                      False\n",
       "│    │    └─BasicConv2d (1)              [32, 16, 3, 3]                                               [32, 32, 3, 3]                                               (4,672)                                                      False\n",
       "│    └─Sequential (branch4)              [32, 192, 3, 3]                                              [32, 32, 3, 3]                                               --                                                           False\n",
       "│    │    └─MaxPool2d (0)                [32, 192, 3, 3]                                              [32, 192, 3, 3]                                              --                                                           --\n",
       "│    │    └─BasicConv2d (1)              [32, 192, 3, 3]                                              [32, 32, 3, 3]                                               (6,208)                                                      False\n",
       "├─Inception (inception3b)                [32, 256, 3, 3]                                              [32, 480, 3, 3]                                              --                                                           False\n",
       "│    └─BasicConv2d (branch1)             [32, 256, 3, 3]                                              [32, 128, 3, 3]                                              --                                                           False\n",
       "│    │    └─Conv2d (conv)                [32, 256, 3, 3]                                              [32, 128, 3, 3]                                              (32,768)                                                     False\n",
       "│    │    └─BatchNorm2d (bn)             [32, 128, 3, 3]                                              [32, 128, 3, 3]                                              (256)                                                        False\n",
       "│    └─Sequential (branch2)              [32, 256, 3, 3]                                              [32, 192, 3, 3]                                              --                                                           False\n",
       "│    │    └─BasicConv2d (0)              [32, 256, 3, 3]                                              [32, 128, 3, 3]                                              (33,024)                                                     False\n",
       "│    │    └─BasicConv2d (1)              [32, 128, 3, 3]                                              [32, 192, 3, 3]                                              (221,568)                                                    False\n",
       "│    └─Sequential (branch3)              [32, 256, 3, 3]                                              [32, 96, 3, 3]                                               --                                                           False\n",
       "│    │    └─BasicConv2d (0)              [32, 256, 3, 3]                                              [32, 32, 3, 3]                                               (8,256)                                                      False\n",
       "│    │    └─BasicConv2d (1)              [32, 32, 3, 3]                                               [32, 96, 3, 3]                                               (27,840)                                                     False\n",
       "│    └─Sequential (branch4)              [32, 256, 3, 3]                                              [32, 64, 3, 3]                                               --                                                           False\n",
       "│    │    └─MaxPool2d (0)                [32, 256, 3, 3]                                              [32, 256, 3, 3]                                              --                                                           --\n",
       "│    │    └─BasicConv2d (1)              [32, 256, 3, 3]                                              [32, 64, 3, 3]                                               (16,512)                                                     False\n",
       "├─MaxPool2d (maxpool3)                   [32, 480, 3, 3]                                              [32, 480, 1, 1]                                              --                                                           --\n",
       "├─Inception (inception4a)                [32, 480, 1, 1]                                              [32, 512, 1, 1]                                              --                                                           False\n",
       "│    └─BasicConv2d (branch1)             [32, 480, 1, 1]                                              [32, 192, 1, 1]                                              --                                                           False\n",
       "│    │    └─Conv2d (conv)                [32, 480, 1, 1]                                              [32, 192, 1, 1]                                              (92,160)                                                     False\n",
       "│    │    └─BatchNorm2d (bn)             [32, 192, 1, 1]                                              [32, 192, 1, 1]                                              (384)                                                        False\n",
       "│    └─Sequential (branch2)              [32, 480, 1, 1]                                              [32, 208, 1, 1]                                              --                                                           False\n",
       "│    │    └─BasicConv2d (0)              [32, 480, 1, 1]                                              [32, 96, 1, 1]                                               (46,272)                                                     False\n",
       "│    │    └─BasicConv2d (1)              [32, 96, 1, 1]                                               [32, 208, 1, 1]                                              (180,128)                                                    False\n",
       "│    └─Sequential (branch3)              [32, 480, 1, 1]                                              [32, 48, 1, 1]                                               --                                                           False\n",
       "│    │    └─BasicConv2d (0)              [32, 480, 1, 1]                                              [32, 16, 1, 1]                                               (7,712)                                                      False\n",
       "│    │    └─BasicConv2d (1)              [32, 16, 1, 1]                                               [32, 48, 1, 1]                                               (7,008)                                                      False\n",
       "│    └─Sequential (branch4)              [32, 480, 1, 1]                                              [32, 64, 1, 1]                                               --                                                           False\n",
       "│    │    └─MaxPool2d (0)                [32, 480, 1, 1]                                              [32, 480, 1, 1]                                              --                                                           --\n",
       "│    │    └─BasicConv2d (1)              [32, 480, 1, 1]                                              [32, 64, 1, 1]                                               (30,848)                                                     False\n",
       "├─Inception (inception4b)                [32, 512, 1, 1]                                              [32, 512, 1, 1]                                              --                                                           False\n",
       "│    └─BasicConv2d (branch1)             [32, 512, 1, 1]                                              [32, 160, 1, 1]                                              --                                                           False\n",
       "│    │    └─Conv2d (conv)                [32, 512, 1, 1]                                              [32, 160, 1, 1]                                              (81,920)                                                     False\n",
       "│    │    └─BatchNorm2d (bn)             [32, 160, 1, 1]                                              [32, 160, 1, 1]                                              (320)                                                        False\n",
       "│    └─Sequential (branch2)              [32, 512, 1, 1]                                              [32, 224, 1, 1]                                              --                                                           False\n",
       "│    │    └─BasicConv2d (0)              [32, 512, 1, 1]                                              [32, 112, 1, 1]                                              (57,568)                                                     False\n",
       "│    │    └─BasicConv2d (1)              [32, 112, 1, 1]                                              [32, 224, 1, 1]                                              (226,240)                                                    False\n",
       "│    └─Sequential (branch3)              [32, 512, 1, 1]                                              [32, 64, 1, 1]                                               --                                                           False\n",
       "│    │    └─BasicConv2d (0)              [32, 512, 1, 1]                                              [32, 24, 1, 1]                                               (12,336)                                                     False\n",
       "│    │    └─BasicConv2d (1)              [32, 24, 1, 1]                                               [32, 64, 1, 1]                                               (13,952)                                                     False\n",
       "│    └─Sequential (branch4)              [32, 512, 1, 1]                                              [32, 64, 1, 1]                                               --                                                           False\n",
       "│    │    └─MaxPool2d (0)                [32, 512, 1, 1]                                              [32, 512, 1, 1]                                              --                                                           --\n",
       "│    │    └─BasicConv2d (1)              [32, 512, 1, 1]                                              [32, 64, 1, 1]                                               (32,896)                                                     False\n",
       "├─Inception (inception4c)                [32, 512, 1, 1]                                              [32, 512, 1, 1]                                              --                                                           False\n",
       "│    └─BasicConv2d (branch1)             [32, 512, 1, 1]                                              [32, 128, 1, 1]                                              --                                                           False\n",
       "│    │    └─Conv2d (conv)                [32, 512, 1, 1]                                              [32, 128, 1, 1]                                              (65,536)                                                     False\n",
       "│    │    └─BatchNorm2d (bn)             [32, 128, 1, 1]                                              [32, 128, 1, 1]                                              (256)                                                        False\n",
       "│    └─Sequential (branch2)              [32, 512, 1, 1]                                              [32, 256, 1, 1]                                              --                                                           False\n",
       "│    │    └─BasicConv2d (0)              [32, 512, 1, 1]                                              [32, 128, 1, 1]                                              (65,792)                                                     False\n",
       "│    │    └─BasicConv2d (1)              [32, 128, 1, 1]                                              [32, 256, 1, 1]                                              (295,424)                                                    False\n",
       "│    └─Sequential (branch3)              [32, 512, 1, 1]                                              [32, 64, 1, 1]                                               --                                                           False\n",
       "│    │    └─BasicConv2d (0)              [32, 512, 1, 1]                                              [32, 24, 1, 1]                                               (12,336)                                                     False\n",
       "│    │    └─BasicConv2d (1)              [32, 24, 1, 1]                                               [32, 64, 1, 1]                                               (13,952)                                                     False\n",
       "│    └─Sequential (branch4)              [32, 512, 1, 1]                                              [32, 64, 1, 1]                                               --                                                           False\n",
       "│    │    └─MaxPool2d (0)                [32, 512, 1, 1]                                              [32, 512, 1, 1]                                              --                                                           --\n",
       "│    │    └─BasicConv2d (1)              [32, 512, 1, 1]                                              [32, 64, 1, 1]                                               (32,896)                                                     False\n",
       "├─Inception (inception4d)                [32, 512, 1, 1]                                              [32, 528, 1, 1]                                              --                                                           False\n",
       "│    └─BasicConv2d (branch1)             [32, 512, 1, 1]                                              [32, 112, 1, 1]                                              --                                                           False\n",
       "│    │    └─Conv2d (conv)                [32, 512, 1, 1]                                              [32, 112, 1, 1]                                              (57,344)                                                     False\n",
       "│    │    └─BatchNorm2d (bn)             [32, 112, 1, 1]                                              [32, 112, 1, 1]                                              (224)                                                        False\n",
       "│    └─Sequential (branch2)              [32, 512, 1, 1]                                              [32, 288, 1, 1]                                              --                                                           False\n",
       "│    │    └─BasicConv2d (0)              [32, 512, 1, 1]                                              [32, 144, 1, 1]                                              (74,016)                                                     False\n",
       "│    │    └─BasicConv2d (1)              [32, 144, 1, 1]                                              [32, 288, 1, 1]                                              (373,824)                                                    False\n",
       "│    └─Sequential (branch3)              [32, 512, 1, 1]                                              [32, 64, 1, 1]                                               --                                                           False\n",
       "│    │    └─BasicConv2d (0)              [32, 512, 1, 1]                                              [32, 32, 1, 1]                                               (16,448)                                                     False\n",
       "│    │    └─BasicConv2d (1)              [32, 32, 1, 1]                                               [32, 64, 1, 1]                                               (18,560)                                                     False\n",
       "│    └─Sequential (branch4)              [32, 512, 1, 1]                                              [32, 64, 1, 1]                                               --                                                           False\n",
       "│    │    └─MaxPool2d (0)                [32, 512, 1, 1]                                              [32, 512, 1, 1]                                              --                                                           --\n",
       "│    │    └─BasicConv2d (1)              [32, 512, 1, 1]                                              [32, 64, 1, 1]                                               (32,896)                                                     False\n",
       "├─Inception (inception4e)                [32, 528, 1, 1]                                              [32, 832, 1, 1]                                              --                                                           False\n",
       "│    └─BasicConv2d (branch1)             [32, 528, 1, 1]                                              [32, 256, 1, 1]                                              --                                                           False\n",
       "│    │    └─Conv2d (conv)                [32, 528, 1, 1]                                              [32, 256, 1, 1]                                              (135,168)                                                    False\n",
       "│    │    └─BatchNorm2d (bn)             [32, 256, 1, 1]                                              [32, 256, 1, 1]                                              (512)                                                        False\n",
       "│    └─Sequential (branch2)              [32, 528, 1, 1]                                              [32, 320, 1, 1]                                              --                                                           False\n",
       "│    │    └─BasicConv2d (0)              [32, 528, 1, 1]                                              [32, 160, 1, 1]                                              (84,800)                                                     False\n",
       "│    │    └─BasicConv2d (1)              [32, 160, 1, 1]                                              [32, 320, 1, 1]                                              (461,440)                                                    False\n",
       "│    └─Sequential (branch3)              [32, 528, 1, 1]                                              [32, 128, 1, 1]                                              --                                                           False\n",
       "│    │    └─BasicConv2d (0)              [32, 528, 1, 1]                                              [32, 32, 1, 1]                                               (16,960)                                                     False\n",
       "│    │    └─BasicConv2d (1)              [32, 32, 1, 1]                                               [32, 128, 1, 1]                                              (37,120)                                                     False\n",
       "│    └─Sequential (branch4)              [32, 528, 1, 1]                                              [32, 128, 1, 1]                                              --                                                           False\n",
       "│    │    └─MaxPool2d (0)                [32, 528, 1, 1]                                              [32, 528, 1, 1]                                              --                                                           --\n",
       "│    │    └─BasicConv2d (1)              [32, 528, 1, 1]                                              [32, 128, 1, 1]                                              (67,840)                                                     False\n",
       "├─MaxPool2d (maxpool4)                   [32, 832, 1, 1]                                              [32, 832, 1, 1]                                              --                                                           --\n",
       "├─Inception (inception5a)                [32, 832, 1, 1]                                              [32, 832, 1, 1]                                              --                                                           False\n",
       "│    └─BasicConv2d (branch1)             [32, 832, 1, 1]                                              [32, 256, 1, 1]                                              --                                                           False\n",
       "│    │    └─Conv2d (conv)                [32, 832, 1, 1]                                              [32, 256, 1, 1]                                              (212,992)                                                    False\n",
       "│    │    └─BatchNorm2d (bn)             [32, 256, 1, 1]                                              [32, 256, 1, 1]                                              (512)                                                        False\n",
       "│    └─Sequential (branch2)              [32, 832, 1, 1]                                              [32, 320, 1, 1]                                              --                                                           False\n",
       "│    │    └─BasicConv2d (0)              [32, 832, 1, 1]                                              [32, 160, 1, 1]                                              (133,440)                                                    False\n",
       "│    │    └─BasicConv2d (1)              [32, 160, 1, 1]                                              [32, 320, 1, 1]                                              (461,440)                                                    False\n",
       "│    └─Sequential (branch3)              [32, 832, 1, 1]                                              [32, 128, 1, 1]                                              --                                                           False\n",
       "│    │    └─BasicConv2d (0)              [32, 832, 1, 1]                                              [32, 32, 1, 1]                                               (26,688)                                                     False\n",
       "│    │    └─BasicConv2d (1)              [32, 32, 1, 1]                                               [32, 128, 1, 1]                                              (37,120)                                                     False\n",
       "│    └─Sequential (branch4)              [32, 832, 1, 1]                                              [32, 128, 1, 1]                                              --                                                           False\n",
       "│    │    └─MaxPool2d (0)                [32, 832, 1, 1]                                              [32, 832, 1, 1]                                              --                                                           --\n",
       "│    │    └─BasicConv2d (1)              [32, 832, 1, 1]                                              [32, 128, 1, 1]                                              (106,752)                                                    False\n",
       "├─Inception (inception5b)                [32, 832, 1, 1]                                              [32, 1024, 1, 1]                                             --                                                           False\n",
       "│    └─BasicConv2d (branch1)             [32, 832, 1, 1]                                              [32, 384, 1, 1]                                              --                                                           False\n",
       "│    │    └─Conv2d (conv)                [32, 832, 1, 1]                                              [32, 384, 1, 1]                                              (319,488)                                                    False\n",
       "│    │    └─BatchNorm2d (bn)             [32, 384, 1, 1]                                              [32, 384, 1, 1]                                              (768)                                                        False\n",
       "│    └─Sequential (branch2)              [32, 832, 1, 1]                                              [32, 384, 1, 1]                                              --                                                           False\n",
       "│    │    └─BasicConv2d (0)              [32, 832, 1, 1]                                              [32, 192, 1, 1]                                              (160,128)                                                    False\n",
       "│    │    └─BasicConv2d (1)              [32, 192, 1, 1]                                              [32, 384, 1, 1]                                              (664,320)                                                    False\n",
       "│    └─Sequential (branch3)              [32, 832, 1, 1]                                              [32, 128, 1, 1]                                              --                                                           False\n",
       "│    │    └─BasicConv2d (0)              [32, 832, 1, 1]                                              [32, 48, 1, 1]                                               (40,032)                                                     False\n",
       "│    │    └─BasicConv2d (1)              [32, 48, 1, 1]                                               [32, 128, 1, 1]                                              (55,552)                                                     False\n",
       "│    └─Sequential (branch4)              [32, 832, 1, 1]                                              [32, 128, 1, 1]                                              --                                                           False\n",
       "│    │    └─MaxPool2d (0)                [32, 832, 1, 1]                                              [32, 832, 1, 1]                                              --                                                           --\n",
       "│    │    └─BasicConv2d (1)              [32, 832, 1, 1]                                              [32, 128, 1, 1]                                              (106,752)                                                    False\n",
       "├─AdaptiveAvgPool2d (avgpool)            [32, 1024, 1, 1]                                             [32, 1024, 1, 1]                                             --                                                           --\n",
       "├─Dropout (dropout)                      [32, 1024]                                                   [32, 1024]                                                   --                                                           --\n",
       "├─Sequential (fc)                        [32, 1024]                                                   [32, 10]                                                     --                                                           Partial\n",
       "│    └─Linear (0)                        [32, 1024]                                                   [32, 10]                                                     10,250                                                       Partial\n",
       "========================================================================================================================================================================================================================================================================================\n",
       "Total params: 11,990,138\n",
       "Trainable params: 10\n",
       "Non-trainable params: 11,990,128\n",
       "Total mult-adds (M): 540.88\n",
       "========================================================================================================================================================================================================================================================================================\n",
       "Input size (MB): 0.30\n",
       "Forward/backward pass size (MB): 20.54\n",
       "Params size (MB): 22.44\n",
       "Estimated Total Size (MB): 43.28\n",
       "========================================================================================================================================================================================================================================================================================"
      ]
     },
     "execution_count": 119,
     "metadata": {},
     "output_type": "execute_result"
    }
   ],
   "source": [
    "# model architecture\n",
    "torchinfo.summary(googlenet_model,\n",
    "                  input_size=(32, 3, 28, 28), \n",
    "                  col_names=[\"input_size\", \"output_size\", \"num_params\", \"trainable\"],\n",
    "                  col_width=60,\n",
    "                  row_settings=[\"var_names\"]\n",
    "                  )"
   ]
  },
  {
   "cell_type": "markdown",
   "metadata": {},
   "source": [
    "##### Hyper-parameter Initialisations"
   ]
  },
  {
   "attachments": {},
   "cell_type": "markdown",
   "metadata": {},
   "source": [
    "##### Model Trains"
   ]
  },
  {
   "attachments": {},
   "cell_type": "markdown",
   "metadata": {},
   "source": [
    "##### Visualisations"
   ]
  },
  {
   "cell_type": "code",
   "execution_count": null,
   "metadata": {},
   "outputs": [],
   "source": [
    "torchmetrics.ConfusionMatrix"
   ]
  }
 ],
 "metadata": {
  "kernelspec": {
   "display_name": "ECS795P",
   "language": "python",
   "name": "python3"
  },
  "language_info": {
   "codemirror_mode": {
    "name": "ipython",
    "version": 3
   },
   "file_extension": ".py",
   "mimetype": "text/x-python",
   "name": "python",
   "nbconvert_exporter": "python",
   "pygments_lexer": "ipython3",
   "version": "3.7.16"
  },
  "orig_nbformat": 4
 },
 "nbformat": 4,
 "nbformat_minor": 2
}
