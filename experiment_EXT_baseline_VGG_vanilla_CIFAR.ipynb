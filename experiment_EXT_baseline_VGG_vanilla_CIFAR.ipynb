{
 "cells": [
  {
   "cell_type": "code",
   "execution_count": 6,
   "metadata": {},
   "outputs": [
    {
     "name": "stdout",
     "output_type": "stream",
     "text": [
      "Requirement already satisfied: torchinfo in c:\\users\\musta\\anaconda3\\envs\\deeplearning\\lib\\site-packages (1.7.2)\n",
      "Requirement already satisfied: torchmetrics in c:\\users\\musta\\anaconda3\\envs\\deeplearning\\lib\\site-packages (0.11.4)\n",
      "Requirement already satisfied: wandb in c:\\users\\musta\\anaconda3\\envs\\deeplearning\\lib\\site-packages (0.15.2)\n",
      "Requirement already satisfied: mlxtend==0.22 in c:\\users\\musta\\anaconda3\\envs\\deeplearning\\lib\\site-packages (0.22.0)\n",
      "Requirement already satisfied: numpy>=1.16.2 in c:\\users\\musta\\anaconda3\\envs\\deeplearning\\lib\\site-packages (from mlxtend==0.22) (1.21.6)\n",
      "Requirement already satisfied: joblib>=0.13.2 in c:\\users\\musta\\anaconda3\\envs\\deeplearning\\lib\\site-packages (from mlxtend==0.22) (1.2.0)\n",
      "Requirement already satisfied: scipy>=1.2.1 in c:\\users\\musta\\anaconda3\\envs\\deeplearning\\lib\\site-packages (from mlxtend==0.22) (1.7.3)\n",
      "Requirement already satisfied: pandas>=0.24.2 in c:\\users\\musta\\anaconda3\\envs\\deeplearning\\lib\\site-packages (from mlxtend==0.22) (1.3.5)\n",
      "Requirement already satisfied: setuptools in c:\\users\\musta\\anaconda3\\envs\\deeplearning\\lib\\site-packages (from mlxtend==0.22) (65.5.0)\n",
      "Requirement already satisfied: matplotlib>=3.0.0 in c:\\users\\musta\\anaconda3\\envs\\deeplearning\\lib\\site-packages (from mlxtend==0.22) (3.5.2)\n",
      "Requirement already satisfied: scikit-learn>=1.0.2 in c:\\users\\musta\\anaconda3\\envs\\deeplearning\\lib\\site-packages (from mlxtend==0.22) (1.0.2)\n",
      "Requirement already satisfied: packaging in c:\\users\\musta\\appdata\\roaming\\python\\python37\\site-packages (from torchmetrics) (23.0)\n",
      "Requirement already satisfied: typing-extensions in c:\\users\\musta\\anaconda3\\envs\\deeplearning\\lib\\site-packages (from torchmetrics) (4.4.0)\n",
      "Requirement already satisfied: torch>=1.8.1 in c:\\users\\musta\\anaconda3\\envs\\deeplearning\\lib\\site-packages (from torchmetrics) (1.13.1)\n",
      "Requirement already satisfied: appdirs>=1.4.3 in c:\\users\\musta\\anaconda3\\envs\\deeplearning\\lib\\site-packages (from wandb) (1.4.4)\n",
      "Requirement already satisfied: sentry-sdk>=1.0.0 in c:\\users\\musta\\anaconda3\\envs\\deeplearning\\lib\\site-packages (from wandb) (1.22.1)\n",
      "Requirement already satisfied: setproctitle in c:\\users\\musta\\anaconda3\\envs\\deeplearning\\lib\\site-packages (from wandb) (1.3.2)\n",
      "Requirement already satisfied: PyYAML in c:\\users\\musta\\anaconda3\\envs\\deeplearning\\lib\\site-packages (from wandb) (6.0)\n",
      "Requirement already satisfied: requests<3,>=2.0.0 in c:\\users\\musta\\anaconda3\\envs\\deeplearning\\lib\\site-packages (from wandb) (2.28.1)\n",
      "Requirement already satisfied: docker-pycreds>=0.4.0 in c:\\users\\musta\\anaconda3\\envs\\deeplearning\\lib\\site-packages (from wandb) (0.4.0)\n",
      "Requirement already satisfied: pathtools in c:\\users\\musta\\anaconda3\\envs\\deeplearning\\lib\\site-packages (from wandb) (0.1.2)\n",
      "Requirement already satisfied: GitPython!=3.1.29,>=1.0.0 in c:\\users\\musta\\anaconda3\\envs\\deeplearning\\lib\\site-packages (from wandb) (3.1.31)\n",
      "Requirement already satisfied: protobuf!=4.21.0,<5,>=3.19.0 in c:\\users\\musta\\anaconda3\\envs\\deeplearning\\lib\\site-packages (from wandb) (4.22.4)\n",
      "Requirement already satisfied: Click!=8.0.0,>=7.0 in c:\\users\\musta\\anaconda3\\envs\\deeplearning\\lib\\site-packages (from wandb) (8.1.3)\n",
      "Requirement already satisfied: psutil>=5.0.0 in c:\\users\\musta\\appdata\\roaming\\python\\python37\\site-packages (from wandb) (5.9.4)\n",
      "Requirement already satisfied: colorama in c:\\users\\musta\\appdata\\roaming\\python\\python37\\site-packages (from Click!=8.0.0,>=7.0->wandb) (0.4.6)\n",
      "Requirement already satisfied: importlib-metadata in c:\\users\\musta\\anaconda3\\envs\\deeplearning\\lib\\site-packages (from Click!=8.0.0,>=7.0->wandb) (6.6.0)\n",
      "Requirement already satisfied: six>=1.4.0 in c:\\users\\musta\\appdata\\roaming\\python\\python37\\site-packages (from docker-pycreds>=0.4.0->wandb) (1.16.0)\n",
      "Requirement already satisfied: gitdb<5,>=4.0.1 in c:\\users\\musta\\anaconda3\\envs\\deeplearning\\lib\\site-packages (from GitPython!=3.1.29,>=1.0.0->wandb) (4.0.10)\n",
      "Requirement already satisfied: fonttools>=4.22.0 in c:\\users\\musta\\anaconda3\\envs\\deeplearning\\lib\\site-packages (from matplotlib>=3.0.0->mlxtend==0.22) (4.25.0)\n",
      "Requirement already satisfied: kiwisolver>=1.0.1 in c:\\users\\musta\\anaconda3\\envs\\deeplearning\\lib\\site-packages (from matplotlib>=3.0.0->mlxtend==0.22) (1.4.4)\n",
      "Requirement already satisfied: cycler>=0.10 in c:\\users\\musta\\anaconda3\\envs\\deeplearning\\lib\\site-packages (from matplotlib>=3.0.0->mlxtend==0.22) (0.11.0)\n",
      "Requirement already satisfied: pyparsing>=2.2.1 in c:\\users\\musta\\anaconda3\\envs\\deeplearning\\lib\\site-packages (from matplotlib>=3.0.0->mlxtend==0.22) (3.0.9)\n",
      "Requirement already satisfied: python-dateutil>=2.7 in c:\\users\\musta\\appdata\\roaming\\python\\python37\\site-packages (from matplotlib>=3.0.0->mlxtend==0.22) (2.8.2)\n",
      "Requirement already satisfied: pillow>=6.2.0 in c:\\users\\musta\\anaconda3\\envs\\deeplearning\\lib\\site-packages (from matplotlib>=3.0.0->mlxtend==0.22) (9.3.0)\n",
      "Requirement already satisfied: pytz>=2017.3 in c:\\users\\musta\\anaconda3\\envs\\deeplearning\\lib\\site-packages (from pandas>=0.24.2->mlxtend==0.22) (2022.7)\n",
      "Requirement already satisfied: certifi>=2017.4.17 in c:\\users\\musta\\anaconda3\\envs\\deeplearning\\lib\\site-packages (from requests<3,>=2.0.0->wandb) (2022.12.7)\n",
      "Requirement already satisfied: charset-normalizer<3,>=2 in c:\\users\\musta\\anaconda3\\envs\\deeplearning\\lib\\site-packages (from requests<3,>=2.0.0->wandb) (2.0.4)\n",
      "Requirement already satisfied: idna<4,>=2.5 in c:\\users\\musta\\anaconda3\\envs\\deeplearning\\lib\\site-packages (from requests<3,>=2.0.0->wandb) (3.4)\n",
      "Requirement already satisfied: urllib3<1.27,>=1.21.1 in c:\\users\\musta\\anaconda3\\envs\\deeplearning\\lib\\site-packages (from requests<3,>=2.0.0->wandb) (1.26.14)\n",
      "Requirement already satisfied: threadpoolctl>=2.0.0 in c:\\users\\musta\\anaconda3\\envs\\deeplearning\\lib\\site-packages (from scikit-learn>=1.0.2->mlxtend==0.22) (3.1.0)\n",
      "Requirement already satisfied: smmap<6,>=3.0.1 in c:\\users\\musta\\anaconda3\\envs\\deeplearning\\lib\\site-packages (from gitdb<5,>=4.0.1->GitPython!=3.1.29,>=1.0.0->wandb) (5.0.0)\n",
      "Requirement already satisfied: zipp>=0.5 in c:\\users\\musta\\anaconda3\\envs\\deeplearning\\lib\\site-packages (from importlib-metadata->Click!=8.0.0,>=7.0->wandb) (3.15.0)\n"
     ]
    }
   ],
   "source": [
    "# required google colab installations\n",
    "!pip install torchinfo torchmetrics wandb mlxtend==0.22"
   ]
  },
  {
   "cell_type": "code",
   "execution_count": 7,
   "metadata": {},
   "outputs": [
    {
     "name": "stderr",
     "output_type": "stream",
     "text": [
      "c:\\Users\\musta\\anaconda3\\envs\\deeplearning\\lib\\site-packages\\tqdm\\auto.py:21: TqdmWarning: IProgress not found. Please update jupyter and ipywidgets. See https://ipywidgets.readthedocs.io/en/stable/user_install.html\n",
      "  from .autonotebook import tqdm as notebook_tqdm\n"
     ]
    }
   ],
   "source": [
    "# import libraries\n",
    "import random\n",
    "import math\n",
    "from pathlib import Path\n",
    "import sys\n",
    "\n",
    "from tqdm.auto import tqdm\n",
    "\n",
    "\n",
    "import numpy as np\n",
    "import matplotlib.pyplot as plt\n",
    "from mlxtend.plotting import plot_confusion_matrix\n",
    "\n",
    "import torchinfo # show model summary\n",
    "\n",
    "# helper functions \n",
    "#from helpers import display_images\n",
    "\n",
    "# pytorch modules\n",
    "import torch\n",
    "from torch.utils.data import DataLoader\n",
    "\n",
    "# torch vision modules\n",
    "import torchvision\n",
    "from torchvision import datasets\n",
    "from torchvision import transforms\n",
    "from torch import nn\n",
    "\n",
    "# vanilla models\n",
    "#from base_models.VGG_vanilla import VGGVanilla\n",
    "\n",
    "# metrics module\n",
    "import torchmetrics\n",
    "\n",
    "# tracking metrics\n",
    "import wandb"
   ]
  },
  {
   "attachments": {},
   "cell_type": "markdown",
   "metadata": {},
   "source": [
    "##### Hyper-parameter Initialisations"
   ]
  },
  {
   "cell_type": "code",
   "execution_count": 25,
   "metadata": {},
   "outputs": [],
   "source": [
    "config = dict(\n",
    "    epochs=10,\n",
    "    learning_rate=1e-3,\n",
    "    batch_size= 32,\n",
    "    optimiser=\"SGD\",\n",
    "    dataset=\"CIFAR\",\n",
    "    architecture=\"VGG-11\", # can be changed to other architectures e.g. \"VGG-11\", \"VGG-13\", \"VGG16-1\"\n",
    ")"
   ]
  },
  {
   "cell_type": "code",
   "execution_count": 26,
   "metadata": {},
   "outputs": [
    {
     "name": "stdout",
     "output_type": "stream",
     "text": [
      "VGG-11_SGD_0.001_32_CIFAR\n"
     ]
    }
   ],
   "source": [
    "run_name = f\"{config['architecture']}_{config['optimiser']}_{config['learning_rate']}_{config['batch_size']}_{config['dataset']}\"\n",
    "print(run_name)"
   ]
  },
  {
   "cell_type": "code",
   "execution_count": 27,
   "metadata": {},
   "outputs": [
    {
     "data": {
      "text/html": [
       "Finishing last run (ID:fkwmlpac) before initializing another..."
      ],
      "text/plain": [
       "<IPython.core.display.HTML object>"
      ]
     },
     "metadata": {},
     "output_type": "display_data"
    },
    {
     "data": {
      "text/html": [
       "Waiting for W&B process to finish... <strong style=\"color:green\">(success).</strong>"
      ],
      "text/plain": [
       "<IPython.core.display.HTML object>"
      ]
     },
     "metadata": {},
     "output_type": "display_data"
    },
    {
     "data": {
      "text/html": [
       " View run <strong style=\"color:#cdcd00\">VGG-11_SGD_0.001_32_CIFAR</strong> at: <a href='https://wandb.ai/mustious/ECS795P_Vanilla_EXT/runs/fkwmlpac' target=\"_blank\">https://wandb.ai/mustious/ECS795P_Vanilla_EXT/runs/fkwmlpac</a><br/>Synced 5 W&B file(s), 0 media file(s), 0 artifact file(s) and 0 other file(s)"
      ],
      "text/plain": [
       "<IPython.core.display.HTML object>"
      ]
     },
     "metadata": {},
     "output_type": "display_data"
    },
    {
     "data": {
      "text/html": [
       "Find logs at: <code>.\\wandb\\run-20230508_105610-fkwmlpac\\logs</code>"
      ],
      "text/plain": [
       "<IPython.core.display.HTML object>"
      ]
     },
     "metadata": {},
     "output_type": "display_data"
    },
    {
     "data": {
      "text/html": [
       "Successfully finished last run (ID:fkwmlpac). Initializing new run:<br/>"
      ],
      "text/plain": [
       "<IPython.core.display.HTML object>"
      ]
     },
     "metadata": {},
     "output_type": "display_data"
    },
    {
     "data": {
      "text/html": [
       "Tracking run with wandb version 0.15.2"
      ],
      "text/plain": [
       "<IPython.core.display.HTML object>"
      ]
     },
     "metadata": {},
     "output_type": "display_data"
    },
    {
     "data": {
      "text/html": [
       "Run data is saved locally in <code>c:\\Users\\musta\\Personal\\school\\MSc AI (QMUL)\\Semester B\\Deep Learning and Computer Vision (ECS795P)\\Deeper-Networks-for-Image-Classification\\wandb\\run-20230508_105618-w1wyimkj</code>"
      ],
      "text/plain": [
       "<IPython.core.display.HTML object>"
      ]
     },
     "metadata": {},
     "output_type": "display_data"
    },
    {
     "data": {
      "text/html": [
       "Syncing run <strong><a href='https://wandb.ai/mustious/ECS795P_Vanilla_EXT/runs/w1wyimkj' target=\"_blank\">VGG-11_SGD_0.001_32_CIFAR</a></strong> to <a href='https://wandb.ai/mustious/ECS795P_Vanilla_EXT' target=\"_blank\">Weights & Biases</a> (<a href='https://wandb.me/run' target=\"_blank\">docs</a>)<br/>"
      ],
      "text/plain": [
       "<IPython.core.display.HTML object>"
      ]
     },
     "metadata": {},
     "output_type": "display_data"
    },
    {
     "data": {
      "text/html": [
       " View project at <a href='https://wandb.ai/mustious/ECS795P_Vanilla_EXT' target=\"_blank\">https://wandb.ai/mustious/ECS795P_Vanilla_EXT</a>"
      ],
      "text/plain": [
       "<IPython.core.display.HTML object>"
      ]
     },
     "metadata": {},
     "output_type": "display_data"
    },
    {
     "data": {
      "text/html": [
       " View run at <a href='https://wandb.ai/mustious/ECS795P_Vanilla_EXT/runs/w1wyimkj' target=\"_blank\">https://wandb.ai/mustious/ECS795P_Vanilla_EXT/runs/w1wyimkj</a>"
      ],
      "text/plain": [
       "<IPython.core.display.HTML object>"
      ]
     },
     "metadata": {},
     "output_type": "display_data"
    },
    {
     "data": {
      "text/html": [
       "<button onClick=\"this.nextSibling.style.display='block';this.style.display='none';\">Display W&B run</button><iframe src='https://wandb.ai/mustious/ECS795P_Vanilla_EXT/runs/w1wyimkj?jupyter=true' style='border:none;width:100%;height:420px;display:none;'></iframe>"
      ],
      "text/plain": [
       "<wandb.sdk.wandb_run.Run at 0x189d1bd2b08>"
      ]
     },
     "execution_count": 27,
     "metadata": {},
     "output_type": "execute_result"
    }
   ],
   "source": [
    "# initialise wandb project\n",
    "wandb.init(project=\"ECS795P_Vanilla_EXT\", config=config, name=run_name)"
   ]
  },
  {
   "cell_type": "code",
   "execution_count": 28,
   "metadata": {},
   "outputs": [
    {
     "name": "stdout",
     "output_type": "stream",
     "text": [
      "Hyper-parameter configurations: \n",
      "{'epochs': 10, 'learning_rate': 0.001, 'batch_size': 32, 'optimiser': 'SGD', 'dataset': 'CIFAR', 'architecture': 'VGG-11'}\n"
     ]
    }
   ],
   "source": [
    "config = wandb.config\n",
    "print(f\"Hyper-parameter configurations: \\n{config}\")"
   ]
  },
  {
   "cell_type": "code",
   "execution_count": 29,
   "metadata": {},
   "outputs": [],
   "source": [
    "def display_images(image_dataloader: DataLoader, class_labels, n_rows: int =3, n_cols:int =5, figsize: tuple =(12,6)):\n",
    "\n",
    "    \"\"\"\n",
    "    displays images from dataloader\n",
    "    \"\"\"\n",
    "    # display MNIST sample images\n",
    "    #n_rows, n_cols = 3, 5\n",
    "    n_samples = n_rows * n_cols # number sample images to display\n",
    "\n",
    "    data, label = next(iter(image_dataloader))\n",
    "    fig, axs = plt.subplots(nrows=n_rows, ncols=n_cols, figsize=figsize)\n",
    "\n",
    "    for i, image in enumerate(data[:n_samples]):\n",
    "        image = image.detach()[0]\n",
    "        #image = image.squeeze(dim=0)\n",
    "        axs[i%n_rows, i//n_rows].imshow(image.numpy(), cmap=\"gray\")\n",
    "        axs[i%n_rows, i//n_rows].set(xticks=[], yticks=[])\n",
    "        axs[i%n_rows, i//n_rows].set_title(class_labels[label[i]])\n",
    "        \n",
    "    return fig"
   ]
  },
  {
   "cell_type": "code",
   "execution_count": 30,
   "metadata": {},
   "outputs": [],
   "source": [
    "def display_predicted_images(model, image_dataloader: DataLoader, class_labels, n_rows: int =3, n_cols:int =5, figsize: tuple =(12,6)):\n",
    "\n",
    "    \"\"\"\n",
    "    displays images from dataloader\n",
    "    \"\"\"\n",
    "    # display MNIST sample images\n",
    "    n_samples = n_rows * n_cols # number sample images to display\n",
    "\n",
    "    data, label = next(iter(image_dataloader))\n",
    "\n",
    "    model = model.to(\"cpu\")\n",
    "\n",
    "    model.eval()\n",
    "    with torch.inference_mode():\n",
    "        model_predictions_logits = model(data)\n",
    "        predictions = nn.functional.softmax(model_predictions_logits, dim=0).argmax(dim=1)\n",
    "\n",
    "    fig, axs = plt.subplots(nrows=n_rows, ncols=n_cols, figsize=figsize)\n",
    "\n",
    "    for i, image in enumerate(data[:n_samples]):\n",
    "        image = image.detach()[0]\n",
    "        #image = image.squeeze(dim=0)\n",
    "        axs[i%n_rows, i//n_rows].imshow(image.numpy(), cmap=\"gray\")\n",
    "        axs[i%n_rows, i//n_rows].set(xticks=[], yticks=[])\n",
    "        title = f\"Actual Class {class_labels[label[i]]}\\n Predicted Class: {class_labels[predictions[i]]}\"\n",
    "        axs[i%n_rows, i//n_rows].set_title(title)\n",
    "\n",
    "    return fig"
   ]
  },
  {
   "cell_type": "code",
   "execution_count": 31,
   "metadata": {},
   "outputs": [
    {
     "name": "stdout",
     "output_type": "stream",
     "text": [
      "Current hardware device: cpu\n"
     ]
    }
   ],
   "source": [
    "# device agnostic code\n",
    "DEVICE = \"cuda\" if torch.cuda.is_available() else \"cpu\"\n",
    "print(f\"Current hardware device: {DEVICE}\")"
   ]
  },
  {
   "attachments": {},
   "cell_type": "markdown",
   "metadata": {},
   "source": [
    "#### Downloading and Loading Datasets"
   ]
  },
  {
   "cell_type": "code",
   "execution_count": 55,
   "metadata": {},
   "outputs": [
    {
     "name": "stdout",
     "output_type": "stream",
     "text": [
      "Files already downloaded and verified\n",
      "Files already downloaded and verified\n"
     ]
    }
   ],
   "source": [
    "# load MNIST datasets\n",
    "# MNIST train data\n",
    "train_data = datasets.CIFAR10(\n",
    "    root=\"cifar_data\",\n",
    "    train=True,\n",
    "    transform=transforms.ToTensor(),\n",
    "    download=True,\n",
    ")\n",
    "\n",
    "# MNIST test data\n",
    "test_data = datasets.CIFAR10(\n",
    "    root=\"cifar_data\",\n",
    "    transform=transforms.ToTensor(),\n",
    "    train=False,\n",
    "    download=True,\n",
    ")"
   ]
  },
  {
   "cell_type": "code",
   "execution_count": 65,
   "metadata": {},
   "outputs": [
    {
     "name": "stdout",
     "output_type": "stream",
     "text": [
      "Train data size: 50000\n",
      "Test data size: 10000\n",
      "Image size: [  3 224 224]\n"
     ]
    }
   ],
   "source": [
    "print(f\"Train data size: {len(train_data)}\")\n",
    "print(f\"Test data size: {len(test_data)}\")\n",
    "print(f\"Image size: {np.array(train_data[0][0].shape)}\")"
   ]
  },
  {
   "cell_type": "code",
   "execution_count": 56,
   "metadata": {},
   "outputs": [
    {
     "name": "stdout",
     "output_type": "stream",
     "text": [
      "class labels: ['airplane', 'automobile', 'bird', 'cat', 'deer', 'dog', 'frog', 'horse', 'ship', 'truck']\n"
     ]
    }
   ],
   "source": [
    "class_labels = train_data.classes # images class labels\n",
    "print(f\"class labels: {class_labels}\")"
   ]
  },
  {
   "attachments": {},
   "cell_type": "markdown",
   "metadata": {},
   "source": [
    "### Displaying Images "
   ]
  },
  {
   "cell_type": "code",
   "execution_count": 57,
   "metadata": {},
   "outputs": [],
   "source": [
    "# train dataloader iterable\n",
    "train_dataloader = DataLoader(\n",
    "    dataset=train_data,\n",
    "    batch_size=config.batch_size,\n",
    "    shuffle=True\n",
    ")\n",
    "\n",
    "# test dataloader iterable\n",
    "test_dataloader= DataLoader(\n",
    "    dataset=test_data,\n",
    "    batch_size=config.batch_size,\n",
    ")"
   ]
  },
  {
   "cell_type": "code",
   "execution_count": 73,
   "metadata": {},
   "outputs": [
    {
     "data": {
      "image/png": "[encoded data removed]",
      "text/plain": [
       "<Figure size 800x600 with 12 Axes>"
      ]
     },
     "metadata": {},
     "output_type": "display_data"
    }
   ],
   "source": [
    "display_images(train_dataloader, class_labels=class_labels, n_cols=4, n_rows=3, figsize=(8,6))\n",
    "plt.savefig(\"dataset_sample/CIFAR10_dataset_sample.jpg\")\n",
    "plt.show()"
   ]
  },
  {
   "cell_type": "code",
   "execution_count": 62,
   "metadata": {},
   "outputs": [
    {
     "name": "stdout",
     "output_type": "stream",
     "text": [
      "Train data mean: [0.55691964 0.5464462  0.50606837]\t Train data standard deviation: [0.27996986 0.27594981 0.29646622]\n",
      "test data mean: [0.56010952 0.54981557 0.51046364]\t Test data standard deviation: [0.27953952 0.2752779  0.29647136]\n"
     ]
    }
   ],
   "source": [
    "# calculate train and test dataset means and standard deviations\n",
    "train_data_mean = train_data.data.mean(axis=(0,1,2))/225\n",
    "train_data_std = train_data.data.std(axis=(0,1,2))/225\n",
    "test_data_mean = test_data.data.mean(axis=(0,1,2))/225\n",
    "test_data_std = test_data.data.std(axis=(0,1,2))/225\n",
    "\n",
    "print(f\"Train data mean: {train_data_mean}\\t Train data standard deviation: {train_data_std}\")\n",
    "print(f\"test data mean: {test_data_mean}\\t Test data standard deviation: {test_data_std}\")"
   ]
  },
  {
   "cell_type": "code",
   "execution_count": 63,
   "metadata": {},
   "outputs": [],
   "source": [
    "# Train dataset Transforms\n",
    "train_tranforms = transforms.Compose([\n",
    "    transforms.Resize((224, 224)),\n",
    "    transforms.RandomRotation(0, 180),\n",
    "    transforms.RandomHorizontalFlip(0.3),\n",
    "    transforms.ToTensor(),\n",
    "    transforms.Normalize(train_data_mean, train_data_std)\n",
    "    ])\n",
    "\n",
    "# Test dataset Transforms\n",
    "test_tranforms = transforms.Compose([\n",
    "    transforms.Resize((224, 224)),\n",
    "    transforms.ToTensor(),\n",
    "    transforms.Normalize(test_data_mean, train_data_std)\n",
    "    ])"
   ]
  },
  {
   "cell_type": "code",
   "execution_count": 64,
   "metadata": {},
   "outputs": [
    {
     "name": "stdout",
     "output_type": "stream",
     "text": [
      "Files already downloaded and verified\n",
      "Files already downloaded and verified\n"
     ]
    }
   ],
   "source": [
    "# load MNIST datasets\n",
    "# MNIST train data\n",
    "train_data = datasets.CIFAR10(\n",
    "    root=\"cifar_data\",\n",
    "    train=True,\n",
    "    transform=train_tranforms,\n",
    "    download=True,\n",
    ")\n",
    "\n",
    "# MNIST test data\n",
    "test_data = datasets.CIFAR10(\n",
    "    root=\"cifar_data\",\n",
    "    train=False,\n",
    "    transform=test_tranforms,\n",
    "    download=True,\n",
    ")"
   ]
  },
  {
   "cell_type": "code",
   "execution_count": 41,
   "metadata": {},
   "outputs": [],
   "source": [
    "# train dataloader iterable\n",
    "train_dataloader = DataLoader(\n",
    "    dataset=train_data,\n",
    "    batch_size=config.batch_size,\n",
    "    shuffle=True\n",
    ")\n",
    "\n",
    "# test dataloader iterable\n",
    "test_dataloader= DataLoader(\n",
    "    dataset=test_data,\n",
    "    batch_size=config.batch_size,\n",
    ")"
   ]
  },
  {
   "attachments": {},
   "cell_type": "markdown",
   "metadata": {},
   "source": [
    "#### VGG Baseline Model"
   ]
  },
  {
   "cell_type": "code",
   "execution_count": 69,
   "metadata": {},
   "outputs": [],
   "source": [
    "class VGGVanilla(nn.Module):\n",
    "     \"\"\"\n",
    "     VGG model implementation base on the paper by:\n",
    "\n",
    "     @article{simonyan2014very,\n",
    "     title={Very deep convolutional networks for large-scale image recognition},\n",
    "     author={Simonyan, Karen and Zisserman, Andrew},\n",
    "     journal={arXiv preprint arXiv:1409.1556},\n",
    "     year={2014}\n",
    "     }\n",
    "     \"\"\"\n",
    "     # architecture configurations\n",
    "     arc_config = {\n",
    "     \"A\": [64, \"M\", 128, \"M\", 256, 256, \"M\", 512, 512, \"M\", 512, 512, \"M\"],\n",
    "     \"B\": [64, 64, \"M\", 128, 128, \"M\", 256, 256, \"M\", 512, 512, \"M\", 512, 512, \"M\"],\n",
    "     \"C\": [64, 64, \"M\", 128, 128, \"M\", 256, 256, 1, 256, \"M\", 512, 512, 1, 512, \"M\", 512, 512, 1, 512, \"M\"],\n",
    "     \"D\": [64, 64, \"M\", 128, 128, \"M\", 256, 256, 256, \"M\", 512, 512, 512, \"M\", 512, 512, 512, \"M\"],\n",
    "     \"E\": [64, 64, \"M\", 128, 128, \"M\", 256, 256, 256, 256, \"M\", 512, 512, 512, 512, \"M\", 512, 512, 512, 512, \"M\"],\n",
    "     }\n",
    "\n",
    "     def __init__(self, vgg_type: str = \"A\", output_classes: int = 1000, p_dropout: float = 0.5):\n",
    "          \"\"\"\n",
    "               \n",
    "          \"\"\"\n",
    "          super().__init__()\n",
    "          self.conv_layers = self._make_layers(vgg_type) # stack of CNN layers\n",
    "\n",
    "          # average pool\n",
    "          self.avg_pool = nn.AdaptiveAvgPool2d((7,7))\n",
    "\n",
    "          # Fully-Connected (FC) layers\n",
    "          self.fc_layer = nn.Sequential(\n",
    "               nn.Linear(512 * 7 * 7, 4096),\n",
    "               nn.ReLU(),\n",
    "               nn.Dropout(p=p_dropout),\n",
    "               nn.Linear(4096, 4096),\n",
    "               nn.ReLU(),\n",
    "               nn.Dropout(p=p_dropout),\n",
    "               nn.Linear(4096, output_classes)\n",
    "          )\n",
    "    \n",
    "     def _make_layers(self, vgg_type: str):\n",
    "          \"\"\"\n",
    "          VGG CNN stack based on provided configuration settings\n",
    "\n",
    "          Args:\n",
    "               vgg_type: VGG ConvNet configuration\n",
    "\n",
    "          Return:\n",
    "               CNN_stack: developed architecture\n",
    "          \"\"\"\n",
    "\n",
    "          CNN_layers = []\n",
    "          input_channel = 3 # 3 ==> initial number of channel\n",
    "          config = self.arc_config[vgg_type]\n",
    "\n",
    "          is_conv_1 = False # flag for convolution with size 1\n",
    "\n",
    "          for l in config:\n",
    "               # add MaxPooling\n",
    "               if l == \"M\":\n",
    "                    CNN_layers.append(nn.MaxPool2d((2,2), stride=(2,2)))\n",
    "               \n",
    "               # set flag tochange convolution size\n",
    "               elif l==1:\n",
    "                    is_conv_1 = True\n",
    "               \n",
    "               else:\n",
    "                    if not is_conv_1:\n",
    "                         CNN_layers += [nn.Conv2d(input_channel, l, kernel_size=3, stride=1, padding=1),\n",
    "                                        nn.BatchNorm2d(l), \n",
    "                                        nn.ReLU()]\n",
    "                    else:\n",
    "                         CNN_layers += [nn.Conv2d(input_channel, l, kernel_size=1, stride=1, padding=0), \n",
    "                                        nn.BatchNorm2d(l),\n",
    "                                        nn.ReLU()]\n",
    "                         is_conv_1 = False # turn off flag\n",
    "\n",
    "                    input_channel = l\n",
    "\n",
    "          CNN_stack = nn.Sequential(*CNN_layers)\n",
    "          return CNN_stack\n",
    "\n",
    "     def forward(self, x):\n",
    "          \"\"\"\n",
    "          forward pass\n",
    "          \"\"\"\n",
    "          x = self.conv_layers(x)\n",
    "          x = self.avg_pool(x)\n",
    "          x = x.view(x.shape[0], -1)\n",
    "          x = self.fc_layer(x)\n",
    "          return x\n"
   ]
  },
  {
   "cell_type": "code",
   "execution_count": 70,
   "metadata": {},
   "outputs": [
    {
     "name": "stdout",
     "output_type": "stream",
     "text": [
      "VGG configuration: C\n"
     ]
    }
   ],
   "source": [
    "vgg_config_dict = {\n",
    "    \"VGG-11\": \"A\",\n",
    "    \"VGG-13\": \"B\",\n",
    "    \"VGG-16-1\": \"C\",\n",
    "    \"VGG-16\": \"D\",\n",
    "    \"VGG-19\": \"E\"\n",
    "}\n",
    "vgg_config = vgg_config_dict[config.architecture]\n",
    "print(f\"VGG configuration: {vgg_config}\")"
   ]
  },
  {
   "cell_type": "code",
   "execution_count": 71,
   "metadata": {},
   "outputs": [],
   "source": [
    "vgg_model = VGGVanilla(vgg_type=vgg_config, output_classes=10)"
   ]
  },
  {
   "cell_type": "code",
   "execution_count": 72,
   "metadata": {},
   "outputs": [
    {
     "data": {
      "text/plain": [
       "VGGVanilla(\n",
       "  (conv_layers): Sequential(\n",
       "    (0): Conv2d(3, 64, kernel_size=(3, 3), stride=(1, 1), padding=(1, 1))\n",
       "    (1): ReLU()\n",
       "    (2): Conv2d(64, 64, kernel_size=(3, 3), stride=(1, 1), padding=(1, 1))\n",
       "    (3): ReLU()\n",
       "    (4): MaxPool2d(kernel_size=(2, 2), stride=(2, 2), padding=0, dilation=1, ceil_mode=False)\n",
       "    (5): Conv2d(64, 128, kernel_size=(3, 3), stride=(1, 1), padding=(1, 1))\n",
       "    (6): ReLU()\n",
       "    (7): Conv2d(128, 128, kernel_size=(3, 3), stride=(1, 1), padding=(1, 1))\n",
       "    (8): ReLU()\n",
       "    (9): MaxPool2d(kernel_size=(2, 2), stride=(2, 2), padding=0, dilation=1, ceil_mode=False)\n",
       "    (10): Conv2d(128, 256, kernel_size=(3, 3), stride=(1, 1), padding=(1, 1))\n",
       "    (11): ReLU()\n",
       "    (12): Conv2d(256, 256, kernel_size=(3, 3), stride=(1, 1), padding=(1, 1))\n",
       "    (13): ReLU()\n",
       "    (14): Conv2d(256, 256, kernel_size=(1, 1), stride=(1, 1))\n",
       "    (15): ReLU()\n",
       "    (16): MaxPool2d(kernel_size=(2, 2), stride=(2, 2), padding=0, dilation=1, ceil_mode=False)\n",
       "    (17): Conv2d(256, 512, kernel_size=(3, 3), stride=(1, 1), padding=(1, 1))\n",
       "    (18): ReLU()\n",
       "    (19): Conv2d(512, 512, kernel_size=(3, 3), stride=(1, 1), padding=(1, 1))\n",
       "    (20): ReLU()\n",
       "    (21): Conv2d(512, 512, kernel_size=(1, 1), stride=(1, 1))\n",
       "    (22): ReLU()\n",
       "    (23): MaxPool2d(kernel_size=(2, 2), stride=(2, 2), padding=0, dilation=1, ceil_mode=False)\n",
       "    (24): Conv2d(512, 512, kernel_size=(3, 3), stride=(1, 1), padding=(1, 1))\n",
       "    (25): ReLU()\n",
       "    (26): Conv2d(512, 512, kernel_size=(3, 3), stride=(1, 1), padding=(1, 1))\n",
       "    (27): ReLU()\n",
       "    (28): Conv2d(512, 512, kernel_size=(1, 1), stride=(1, 1))\n",
       "    (29): ReLU()\n",
       "    (30): MaxPool2d(kernel_size=(2, 2), stride=(2, 2), padding=0, dilation=1, ceil_mode=False)\n",
       "  )\n",
       "  (avg_pool): AdaptiveAvgPool2d(output_size=(7, 7))\n",
       "  (fc_layer): Sequential(\n",
       "    (0): Linear(in_features=25088, out_features=4096, bias=True)\n",
       "    (1): ReLU()\n",
       "    (2): Dropout(p=0.5, inplace=False)\n",
       "    (3): Linear(in_features=4096, out_features=4096, bias=True)\n",
       "    (4): ReLU()\n",
       "    (5): Dropout(p=0.5, inplace=False)\n",
       "    (6): Linear(in_features=4096, out_features=10, bias=True)\n",
       "  )\n",
       ")"
      ]
     },
     "execution_count": 72,
     "metadata": {},
     "output_type": "execute_result"
    }
   ],
   "source": [
    "vgg_model"
   ]
  },
  {
   "cell_type": "code",
   "execution_count": 73,
   "metadata": {},
   "outputs": [
    {
     "data": {
      "text/plain": [
       "================================================================================================================================================================\n",
       "Layer (type (var_name))                  Input Shape                    Output Shape                   Param #                        Trainable\n",
       "================================================================================================================================================================\n",
       "VGGVanilla (VGGVanilla)                  [32, 3, 224, 224]              [32, 10]                       --                             True\n",
       "├─Sequential (conv_layers)               [32, 3, 224, 224]              [32, 512, 7, 7]                --                             True\n",
       "│    └─Conv2d (0)                        [32, 3, 224, 224]              [32, 64, 224, 224]             1,792                          True\n",
       "│    └─ReLU (1)                          [32, 64, 224, 224]             [32, 64, 224, 224]             --                             --\n",
       "│    └─Conv2d (2)                        [32, 64, 224, 224]             [32, 64, 224, 224]             36,928                         True\n",
       "│    └─ReLU (3)                          [32, 64, 224, 224]             [32, 64, 224, 224]             --                             --\n",
       "│    └─MaxPool2d (4)                     [32, 64, 224, 224]             [32, 64, 112, 112]             --                             --\n",
       "│    └─Conv2d (5)                        [32, 64, 112, 112]             [32, 128, 112, 112]            73,856                         True\n",
       "│    └─ReLU (6)                          [32, 128, 112, 112]            [32, 128, 112, 112]            --                             --\n",
       "│    └─Conv2d (7)                        [32, 128, 112, 112]            [32, 128, 112, 112]            147,584                        True\n",
       "│    └─ReLU (8)                          [32, 128, 112, 112]            [32, 128, 112, 112]            --                             --\n",
       "│    └─MaxPool2d (9)                     [32, 128, 112, 112]            [32, 128, 56, 56]              --                             --\n",
       "│    └─Conv2d (10)                       [32, 128, 56, 56]              [32, 256, 56, 56]              295,168                        True\n",
       "│    └─ReLU (11)                         [32, 256, 56, 56]              [32, 256, 56, 56]              --                             --\n",
       "│    └─Conv2d (12)                       [32, 256, 56, 56]              [32, 256, 56, 56]              590,080                        True\n",
       "│    └─ReLU (13)                         [32, 256, 56, 56]              [32, 256, 56, 56]              --                             --\n",
       "│    └─Conv2d (14)                       [32, 256, 56, 56]              [32, 256, 56, 56]              65,792                         True\n",
       "│    └─ReLU (15)                         [32, 256, 56, 56]              [32, 256, 56, 56]              --                             --\n",
       "│    └─MaxPool2d (16)                    [32, 256, 56, 56]              [32, 256, 28, 28]              --                             --\n",
       "│    └─Conv2d (17)                       [32, 256, 28, 28]              [32, 512, 28, 28]              1,180,160                      True\n",
       "│    └─ReLU (18)                         [32, 512, 28, 28]              [32, 512, 28, 28]              --                             --\n",
       "│    └─Conv2d (19)                       [32, 512, 28, 28]              [32, 512, 28, 28]              2,359,808                      True\n",
       "│    └─ReLU (20)                         [32, 512, 28, 28]              [32, 512, 28, 28]              --                             --\n",
       "│    └─Conv2d (21)                       [32, 512, 28, 28]              [32, 512, 28, 28]              262,656                        True\n",
       "│    └─ReLU (22)                         [32, 512, 28, 28]              [32, 512, 28, 28]              --                             --\n",
       "│    └─MaxPool2d (23)                    [32, 512, 28, 28]              [32, 512, 14, 14]              --                             --\n",
       "│    └─Conv2d (24)                       [32, 512, 14, 14]              [32, 512, 14, 14]              2,359,808                      True\n",
       "│    └─ReLU (25)                         [32, 512, 14, 14]              [32, 512, 14, 14]              --                             --\n",
       "│    └─Conv2d (26)                       [32, 512, 14, 14]              [32, 512, 14, 14]              2,359,808                      True\n",
       "│    └─ReLU (27)                         [32, 512, 14, 14]              [32, 512, 14, 14]              --                             --\n",
       "│    └─Conv2d (28)                       [32, 512, 14, 14]              [32, 512, 14, 14]              262,656                        True\n",
       "│    └─ReLU (29)                         [32, 512, 14, 14]              [32, 512, 14, 14]              --                             --\n",
       "│    └─MaxPool2d (30)                    [32, 512, 14, 14]              [32, 512, 7, 7]                --                             --\n",
       "├─AdaptiveAvgPool2d (avg_pool)           [32, 512, 7, 7]                [32, 512, 7, 7]                --                             --\n",
       "├─Sequential (fc_layer)                  [32, 25088]                    [32, 10]                       --                             True\n",
       "│    └─Linear (0)                        [32, 25088]                    [32, 4096]                     102,764,544                    True\n",
       "│    └─ReLU (1)                          [32, 4096]                     [32, 4096]                     --                             --\n",
       "│    └─Dropout (2)                       [32, 4096]                     [32, 4096]                     --                             --\n",
       "│    └─Linear (3)                        [32, 4096]                     [32, 4096]                     16,781,312                     True\n",
       "│    └─ReLU (4)                          [32, 4096]                     [32, 4096]                     --                             --\n",
       "│    └─Dropout (5)                       [32, 4096]                     [32, 4096]                     --                             --\n",
       "│    └─Linear (6)                        [32, 4096]                     [32, 10]                       40,970                         True\n",
       "================================================================================================================================================================\n",
       "Total params: 129,582,922\n",
       "Trainable params: 129,582,922\n",
       "Non-trainable params: 0\n",
       "Total mult-adds (G): 376.97\n",
       "================================================================================================================================================================\n",
       "Input size (MB): 19.27\n",
       "Forward/backward pass size (MB): 3470.26\n",
       "Params size (MB): 518.33\n",
       "Estimated Total Size (MB): 4007.86\n",
       "================================================================================================================================================================"
      ]
     },
     "execution_count": 73,
     "metadata": {},
     "output_type": "execute_result"
    }
   ],
   "source": [
    "# display model architecture\n",
    "torchinfo.summary(vgg_model,\n",
    "                  input_size=(32, 3, 224, 224), \n",
    "                  col_names=[\"input_size\", \"output_size\", \"num_params\", \"trainable\"],\n",
    "                  col_width=30,\n",
    "                  row_settings=[\"var_names\"]\n",
    "                  )"
   ]
  },
  {
   "cell_type": "code",
   "execution_count": 53,
   "metadata": {},
   "outputs": [],
   "source": [
    "loss_fn = nn.CrossEntropyLoss()\n",
    "if config.optimiser == \"SGD\":\n",
    "    optimiser = torch.optim.SGD(vgg_model.parameters(), lr=config.learning_rate)\n",
    "elif config.optimiser == \"ADAM\":\n",
    "    optimiser = torch.optim.Adam(vgg_model.parameters(), lr=config.learning_rate)"
   ]
  },
  {
   "cell_type": "code",
   "execution_count": 54,
   "metadata": {},
   "outputs": [],
   "source": [
    "# metrics definition\n",
    "accuracy_metric = torchmetrics.Accuracy(task=\"multiclass\", num_classes=10)"
   ]
  },
  {
   "cell_type": "code",
   "execution_count": 55,
   "metadata": {},
   "outputs": [
    {
     "data": {
      "text/plain": [
       "[]"
      ]
     },
     "execution_count": 55,
     "metadata": {},
     "output_type": "execute_result"
    }
   ],
   "source": [
    "# monitor parameter values i.e weights and biases and model gradients\n",
    "wandb.watch(vgg_model, criterion=loss_fn, log=\"all\")"
   ]
  },
  {
   "cell_type": "code",
   "execution_count": 56,
   "metadata": {},
   "outputs": [],
   "source": [
    "def train_model(model, dataloader: torch.utils.data.DataLoader):\n",
    "    \"\"\"\n",
    "    \n",
    "    \"\"\"\n",
    "    train_acc, train_loss = 0, 0\n",
    "    model.train()\n",
    "    for batch_data, batch_label in train_dataloader:\n",
    "        batch_data = batch_data.to(DEVICE)\n",
    "        batch_label = batch_label.to(DEVICE)\\\n",
    "\n",
    "        pred_logits = model(batch_data)\n",
    "\n",
    "        train_batch_loss = loss_fn(pred_logits, batch_label)\n",
    "        train_loss += train_batch_loss\n",
    "\n",
    "        preds = nn.functional.softmax(pred_logits, dim=0).argmax(dim=1)\n",
    "        train_batch_acc = accuracy_metric(preds.cpu(), batch_label.cpu()) * 100\n",
    "        train_acc += train_batch_acc\n",
    "\n",
    "        optimiser.zero_grad()\n",
    "\n",
    "        train_batch_loss.backward()\n",
    "\n",
    "        optimiser.step()\n",
    "    \n",
    "    # average of metrics per batch\n",
    "    train_acc /= len(train_dataloader)\n",
    "    train_loss /= len(train_dataloader)\n",
    "\n",
    "    return train_loss, train_acc"
   ]
  },
  {
   "cell_type": "code",
   "execution_count": 57,
   "metadata": {},
   "outputs": [],
   "source": [
    "def test_model(model, dataloader: torch.utils.data.DataLoader):\n",
    "    \"\"\"\n",
    "    \n",
    "    \"\"\"\n",
    "    test_loss, test_acc =  0, 0\n",
    "    model.eval() # set model to evaluation mode\n",
    "    with torch.inference_mode():\n",
    "        for test_batch_data, test_batch_label in dataloader:\n",
    "\n",
    "            test_batch_data = test_batch_data.to(DEVICE)\n",
    "            test_batch_label = test_batch_label.to(DEVICE)\n",
    "\n",
    "            pred_logits = model(test_batch_data)\n",
    "\n",
    "            test_batch_loss = loss_fn(pred_logits, test_batch_label)\n",
    "            test_loss += test_batch_loss\n",
    "\n",
    "            preds = nn.functional.softmax(pred_logits, dim=0).argmax(dim=1)\n",
    "            \n",
    "            batch_acc = accuracy_metric(preds.cpu(), test_batch_label.cpu()) * 100\n",
    "            test_acc += batch_acc\n",
    "        \n",
    "        # average of loss metrics\n",
    "        test_loss /= len(test_dataloader)\n",
    "        test_acc /= len(test_dataloader)\n",
    "    return test_loss, test_acc"
   ]
  },
  {
   "cell_type": "code",
   "execution_count": 58,
   "metadata": {},
   "outputs": [],
   "source": [
    "def model_prediction(model, dataloader: torch.utils.data.DataLoader):\n",
    "    \"\"\"\n",
    "    \n",
    "    \"\"\"\n",
    "    all_preds = []\n",
    "    model.to(DEVICE)\n",
    "    model.eval() # set model to evaluation mode\n",
    "    with torch.inference_mode():\n",
    "        for test_batch_data, test_batch_label in dataloader:\n",
    "\n",
    "            test_batch_data = test_batch_data.to(DEVICE)\n",
    "            test_batch_label = test_batch_label.to(DEVICE)\n",
    "\n",
    "            pred_logits = model(test_batch_data)\n",
    "            preds = nn.functional.softmax(pred_logits, dim=0).argmax(dim=1)\n",
    "            \n",
    "            all_preds.append(preds.to(\"cpu\"))\n",
    "        \n",
    "    all_preds_tensor = torch.cat(all_preds)\n",
    "    return all_preds_tensor"
   ]
  },
  {
   "attachments": {},
   "cell_type": "markdown",
   "metadata": {},
   "source": [
    "##### Model Training"
   ]
  },
  {
   "cell_type": "code",
   "execution_count": 59,
   "metadata": {},
   "outputs": [
    {
     "name": "stderr",
     "output_type": "stream",
     "text": [
      "  0%|          | 0/1 [00:30<?, ?it/s]\n"
     ]
    },
    {
     "ename": "KeyboardInterrupt",
     "evalue": "",
     "output_type": "error",
     "traceback": [
      "\u001b[1;31m---------------------------------------------------------------------------\u001b[0m",
      "\u001b[1;31mKeyboardInterrupt\u001b[0m                         Traceback (most recent call last)",
      "\u001b[1;32m~\\AppData\\Local\\Temp\\ipykernel_21316\\2601178438.py\u001b[0m in \u001b[0;36m<module>\u001b[1;34m\u001b[0m\n\u001b[0;32m      2\u001b[0m \u001b[1;33m\u001b[0m\u001b[0m\n\u001b[0;32m      3\u001b[0m     \u001b[1;31m# MODEL TRAINING\u001b[0m\u001b[1;33m\u001b[0m\u001b[1;33m\u001b[0m\u001b[1;33m\u001b[0m\u001b[0m\n\u001b[1;32m----> 4\u001b[1;33m     \u001b[0mtrain_loss\u001b[0m\u001b[1;33m,\u001b[0m \u001b[0mtrain_accuracy\u001b[0m \u001b[1;33m=\u001b[0m \u001b[0mtrain_model\u001b[0m\u001b[1;33m(\u001b[0m\u001b[0mvgg_model\u001b[0m\u001b[1;33m,\u001b[0m \u001b[0mtrain_dataloader\u001b[0m\u001b[1;33m)\u001b[0m\u001b[1;33m\u001b[0m\u001b[1;33m\u001b[0m\u001b[0m\n\u001b[0m\u001b[0;32m      5\u001b[0m \u001b[1;33m\u001b[0m\u001b[0m\n\u001b[0;32m      6\u001b[0m     \u001b[1;31m# MODEL EVALUATION\u001b[0m\u001b[1;33m\u001b[0m\u001b[1;33m\u001b[0m\u001b[1;33m\u001b[0m\u001b[0m\n",
      "\u001b[1;32m~\\AppData\\Local\\Temp\\ipykernel_21316\\1778467941.py\u001b[0m in \u001b[0;36mtrain_model\u001b[1;34m(model, dataloader)\u001b[0m\n\u001b[0;32m     20\u001b[0m         \u001b[0moptimiser\u001b[0m\u001b[1;33m.\u001b[0m\u001b[0mzero_grad\u001b[0m\u001b[1;33m(\u001b[0m\u001b[1;33m)\u001b[0m\u001b[1;33m\u001b[0m\u001b[1;33m\u001b[0m\u001b[0m\n\u001b[0;32m     21\u001b[0m \u001b[1;33m\u001b[0m\u001b[0m\n\u001b[1;32m---> 22\u001b[1;33m         \u001b[0mtrain_batch_loss\u001b[0m\u001b[1;33m.\u001b[0m\u001b[0mbackward\u001b[0m\u001b[1;33m(\u001b[0m\u001b[1;33m)\u001b[0m\u001b[1;33m\u001b[0m\u001b[1;33m\u001b[0m\u001b[0m\n\u001b[0m\u001b[0;32m     23\u001b[0m \u001b[1;33m\u001b[0m\u001b[0m\n\u001b[0;32m     24\u001b[0m         \u001b[0moptimiser\u001b[0m\u001b[1;33m.\u001b[0m\u001b[0mstep\u001b[0m\u001b[1;33m(\u001b[0m\u001b[1;33m)\u001b[0m\u001b[1;33m\u001b[0m\u001b[1;33m\u001b[0m\u001b[0m\n",
      "\u001b[1;32mc:\\Users\\musta\\anaconda3\\envs\\deeplearning\\lib\\site-packages\\torch\\_tensor.py\u001b[0m in \u001b[0;36mbackward\u001b[1;34m(self, gradient, retain_graph, create_graph, inputs)\u001b[0m\n\u001b[0;32m    487\u001b[0m             )\n\u001b[0;32m    488\u001b[0m         torch.autograd.backward(\n\u001b[1;32m--> 489\u001b[1;33m             \u001b[0mself\u001b[0m\u001b[1;33m,\u001b[0m \u001b[0mgradient\u001b[0m\u001b[1;33m,\u001b[0m \u001b[0mretain_graph\u001b[0m\u001b[1;33m,\u001b[0m \u001b[0mcreate_graph\u001b[0m\u001b[1;33m,\u001b[0m \u001b[0minputs\u001b[0m\u001b[1;33m=\u001b[0m\u001b[0minputs\u001b[0m\u001b[1;33m\u001b[0m\u001b[1;33m\u001b[0m\u001b[0m\n\u001b[0m\u001b[0;32m    490\u001b[0m         )\n\u001b[0;32m    491\u001b[0m \u001b[1;33m\u001b[0m\u001b[0m\n",
      "\u001b[1;32mc:\\Users\\musta\\anaconda3\\envs\\deeplearning\\lib\\site-packages\\torch\\autograd\\__init__.py\u001b[0m in \u001b[0;36mbackward\u001b[1;34m(tensors, grad_tensors, retain_graph, create_graph, grad_variables, inputs)\u001b[0m\n\u001b[0;32m    197\u001b[0m     Variable._execution_engine.run_backward(  # Calls into the C++ engine to run the backward pass\n\u001b[0;32m    198\u001b[0m         \u001b[0mtensors\u001b[0m\u001b[1;33m,\u001b[0m \u001b[0mgrad_tensors_\u001b[0m\u001b[1;33m,\u001b[0m \u001b[0mretain_graph\u001b[0m\u001b[1;33m,\u001b[0m \u001b[0mcreate_graph\u001b[0m\u001b[1;33m,\u001b[0m \u001b[0minputs\u001b[0m\u001b[1;33m,\u001b[0m\u001b[1;33m\u001b[0m\u001b[1;33m\u001b[0m\u001b[0m\n\u001b[1;32m--> 199\u001b[1;33m         allow_unreachable=True, accumulate_grad=True)  # Calls into the C++ engine to run the backward pass\n\u001b[0m\u001b[0;32m    200\u001b[0m \u001b[1;33m\u001b[0m\u001b[0m\n\u001b[0;32m    201\u001b[0m def grad(\n",
      "\u001b[1;32mc:\\Users\\musta\\anaconda3\\envs\\deeplearning\\lib\\site-packages\\wandb\\wandb_torch.py\u001b[0m in \u001b[0;36m<lambda>\u001b[1;34m(grad)\u001b[0m\n\u001b[0;32m    280\u001b[0m             \u001b[0mself\u001b[0m\u001b[1;33m.\u001b[0m\u001b[0mlog_tensor_stats\u001b[0m\u001b[1;33m(\u001b[0m\u001b[0mgrad\u001b[0m\u001b[1;33m.\u001b[0m\u001b[0mdata\u001b[0m\u001b[1;33m,\u001b[0m \u001b[0mname\u001b[0m\u001b[1;33m)\u001b[0m\u001b[1;33m\u001b[0m\u001b[1;33m\u001b[0m\u001b[0m\n\u001b[0;32m    281\u001b[0m \u001b[1;33m\u001b[0m\u001b[0m\n\u001b[1;32m--> 282\u001b[1;33m         \u001b[0mhandle\u001b[0m \u001b[1;33m=\u001b[0m \u001b[0mvar\u001b[0m\u001b[1;33m.\u001b[0m\u001b[0mregister_hook\u001b[0m\u001b[1;33m(\u001b[0m\u001b[1;32mlambda\u001b[0m \u001b[0mgrad\u001b[0m\u001b[1;33m:\u001b[0m \u001b[0m_callback\u001b[0m\u001b[1;33m(\u001b[0m\u001b[0mgrad\u001b[0m\u001b[1;33m,\u001b[0m \u001b[0mlog_track\u001b[0m\u001b[1;33m)\u001b[0m\u001b[1;33m)\u001b[0m\u001b[1;33m\u001b[0m\u001b[1;33m\u001b[0m\u001b[0m\n\u001b[0m\u001b[0;32m    283\u001b[0m         \u001b[0mself\u001b[0m\u001b[1;33m.\u001b[0m\u001b[0m_hook_handles\u001b[0m\u001b[1;33m[\u001b[0m\u001b[0mname\u001b[0m\u001b[1;33m]\u001b[0m \u001b[1;33m=\u001b[0m \u001b[0mhandle\u001b[0m\u001b[1;33m\u001b[0m\u001b[1;33m\u001b[0m\u001b[0m\n\u001b[0;32m    284\u001b[0m         \u001b[1;32mreturn\u001b[0m \u001b[0mhandle\u001b[0m\u001b[1;33m\u001b[0m\u001b[1;33m\u001b[0m\u001b[0m\n",
      "\u001b[1;31mKeyboardInterrupt\u001b[0m: "
     ]
    }
   ],
   "source": [
    "\n",
    "for epoch in tqdm(range(config.epochs)):\n",
    "\n",
    "    # MODEL TRAINING\n",
    "    train_loss, train_accuracy = train_model(vgg_model, train_dataloader)\n",
    "\n",
    "    # MODEL EVALUATION\n",
    "    test_loss, test_accuracy = test_model(vgg_model, test_dataloader)\n",
    "    \n",
    "    # print training metrics\n",
    "    print(f\"Epoch: {epoch}\")\n",
    "    print(f\"Training loss: {train_loss: .3f}\\t Training accuracy: {train_accuracy: .3f}\", end=\"\\t\")\n",
    "    print(f\"Test loss: {test_loss: .3f}\\t Test acc: {test_accuracy: .3f}\")\n",
    "\n",
    "    # log epoch metrics to WandB\n",
    "    epoch_log_dict = {\n",
    "        \"training_accuracy\": train_accuracy,\n",
    "        \"training_loss\": train_loss,\n",
    "        \"test_loss\": test_loss,\n",
    "        \"test_accuracy\": test_accuracy\n",
    "    }\n",
    "    wandb.log(epoch_log_dict)\n",
    "\n"
   ]
  },
  {
   "attachments": {},
   "cell_type": "markdown",
   "metadata": {},
   "source": [
    "### Visualisations"
   ]
  },
  {
   "attachments": {},
   "cell_type": "markdown",
   "metadata": {},
   "source": [
    "#### Model accuracy and loss\n"
   ]
  },
  {
   "cell_type": "code",
   "execution_count": null,
   "metadata": {},
   "outputs": [],
   "source": [
    "# show logged metrics\n",
    "%wandb mustious/ECS795P_Classic"
   ]
  },
  {
   "attachments": {},
   "cell_type": "markdown",
   "metadata": {},
   "source": [
    "#### Sample Images of Predicted Classes"
   ]
  },
  {
   "cell_type": "code",
   "execution_count": null,
   "metadata": {},
   "outputs": [],
   "source": [
    "predicted_images_fig = display_predicted_images(vgg_model, test_dataloader, class_labels=class_labels, figsize=(15,10))\n",
    "plt.savefig(f\"{config.architecture}_sample_model_prediction.jpg\")\n",
    "plt.show()\n",
    "\n",
    "# log prediction image in wandb\n",
    "wandb.log({\"sample_predictions\": predicted_images_fig})"
   ]
  },
  {
   "attachments": {},
   "cell_type": "markdown",
   "metadata": {},
   "source": [
    "### Confusion Matrix Visualisation\n"
   ]
  },
  {
   "cell_type": "code",
   "execution_count": null,
   "metadata": {},
   "outputs": [],
   "source": [
    "predictions = model_prediction(vgg_model, test_dataloader)\n",
    "\n",
    "confusion_matrix = torchmetrics.ConfusionMatrix(task=\"multiclass\", num_classes=len(class_labels))\n",
    "confusion_matrix_tensor = confusion_matrix(predictions, test_data.targets)\n",
    "\n",
    "confusion_matrix_fig, ax = plot_confusion_matrix(\n",
    "    confusion_matrix_tensor.numpy(),\n",
    "    class_names= class_labels,\n",
    "    figsize=(10, 7))\n",
    "plt.show()\n",
    "\n",
    "# log prediction image in wandb\n",
    "wandb.log({\"confusion_matrix\": confusion_matrix_fig})\n",
    "wandb.finish()"
   ]
  },
  {
   "cell_type": "code",
   "execution_count": null,
   "metadata": {},
   "outputs": [],
   "source": []
  }
 ],
 "metadata": {
  "kernelspec": {
   "display_name": "ECS795P",
   "language": "python",
   "name": "python3"
  },
  "language_info": {
   "codemirror_mode": {
    "name": "ipython",
    "version": 3
   },
   "file_extension": ".py",
   "mimetype": "text/x-python",
   "name": "python",
   "nbconvert_exporter": "python",
   "pygments_lexer": "ipython3",
   "version": "3.7.15"
  },
  "orig_nbformat": 4
 },
 "nbformat": 4,
 "nbformat_minor": 2
}
